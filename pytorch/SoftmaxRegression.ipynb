{
 "cells": [
  {
   "cell_type": "markdown",
   "metadata": {},
   "source": [
    "# Softmax Regression\n",
    "This notebook is used to validate the training loop and to get reference results on a softmax regression model. The model is trained 3 times, on the following subsets of data:\n",
    "\n",
    "- RGB images\n",
    "- Depthmaps\n",
    "- RGB + depthmaps"
   ]
  },
  {
   "cell_type": "code",
   "execution_count": 1,
   "metadata": {},
   "outputs": [],
   "source": [
    "import numpy as np\n",
    "import pathlib\n",
    "import torch\n",
    "from torch import nn\n",
    "from torch.utils.tensorboard import SummaryWriter\n",
    "\n",
    "import utils\n",
    "\n",
    "DATA_PATH = pathlib.Path('../data')\n",
    "RUNS_PATH = pathlib.Path('runs/softmax-reg')\n",
    "\n",
    "device = torch.device(\"cuda:0\" if torch.cuda.is_available() else \"cpu\")"
   ]
  },
  {
   "cell_type": "markdown",
   "metadata": {},
   "source": [
    "Dataset is read in only once. To drop single channels use boolean variables (rgb, depth). This doesn't change the dataset, but changes only the enabled channels, i.e. the data which is returned by the Dataset object."
   ]
  },
  {
   "cell_type": "code",
   "execution_count": 2,
   "metadata": {},
   "outputs": [
    {
     "name": "stdout",
     "output_type": "stream",
     "text": [
      "\n",
      "Trainin set: 8370 samples of shape (28, 28, 4)\n",
      "\n",
      "Sample: 6459\n",
      "Label: hi\n"
     ]
    },
    {
     "data": {
      "image/png": "[encoded data removed]",
      "text/plain": [
       "<Figure size 216x432 with 2 Axes>"
      ]
     },
     "metadata": {
      "needs_background": "light"
     },
     "output_type": "display_data"
    },
    {
     "name": "stdout",
     "output_type": "stream",
     "text": [
      "\n",
      "Validation set: 1440 samples of shape (28, 28, 4)\n",
      "\n",
      "Sample: 559\n",
      "Label: fist\n"
     ]
    },
    {
     "data": {
      "image/png": "[encoded data removed]",
      "text/plain": [
       "<Figure size 216x432 with 2 Axes>"
      ]
     },
     "metadata": {
      "needs_background": "light"
     },
     "output_type": "display_data"
    }
   ],
   "source": [
    "# Dataset filenames\n",
    "train_ds = utils.HandDataset(DATA_PATH/'training_set.mat')\n",
    "valid_ds = utils.HandDataset(DATA_PATH/'validation_set.mat')\n",
    "# test_ds = utils.HandDataset(DATA_PATH/'test_set.mat')\n",
    "\n",
    "# Data loaders\n",
    "batch_size = 256\n",
    "train_dl = torch.utils.data.DataLoader(train_ds, batch_size=batch_size, shuffle=True)\n",
    "valid_dl = torch.utils.data.DataLoader(valid_ds, batch_size=batch_size, shuffle=False)\n",
    "# test_dl = torch.utils.data.DataLoader(test_ds, batch_size=batch_size, shuffle=False)\n",
    "\n",
    "# Visualization\n",
    "print(f'\\nTrainin set: {train_ds}')\n",
    "train_ds.show_sample()\n",
    "print(f'\\nValidation set: {valid_ds}')\n",
    "valid_ds.show_sample()\n",
    "# print(f'\\nTest set: {test_ds}')\n",
    "# test_ds.show_sample()"
   ]
  },
  {
   "cell_type": "markdown",
   "metadata": {},
   "source": [
    "## RGB + Depth-maps"
   ]
  },
  {
   "cell_type": "code",
   "execution_count": 3,
   "metadata": {},
   "outputs": [
    {
     "name": "stdout",
     "output_type": "stream",
     "text": [
      "Training on device: cpu\n",
      "epoch:    0\tloss:0.023\taccuracy:0.358\tval-accuracy:0.34\n",
      "epoch:    1\tloss:0.0106\taccuracy:0.537\tval-accuracy:0.499\n",
      "epoch:    2\tloss:0.00945\taccuracy:0.554\tval-accuracy:0.603\n",
      "epoch:    3\tloss:0.00723\taccuracy:0.611\tval-accuracy:0.561\n",
      "epoch:    4\tloss:0.00213\taccuracy:0.793\tval-accuracy:0.618\n",
      "epoch:    5\tloss:0.00409\taccuracy:0.733\tval-accuracy:0.451\n",
      "epoch:    6\tloss:0.00712\taccuracy:0.589\tval-accuracy:0.593\n",
      "epoch:    7\tloss:0.00171\taccuracy:0.843\tval-accuracy:0.741\n",
      "epoch:    8\tloss:0.00114\taccuracy:0.888\tval-accuracy:0.765\n",
      "epoch:    9\tloss:0.00103\taccuracy:0.906\tval-accuracy:0.698\n"
     ]
    }
   ],
   "source": [
    "net = utils.SoftmaxRegression(n_inputs=np.prod(train_ds.sample_shape), n_outputs=len(train_ds.classes))\n",
    "loss_function = nn.CrossEntropyLoss()\n",
    "n_epochs, lr = 10, 0.05\n",
    "optimizer = torch.optim.SGD(net.parameters(), lr=lr, momentum=0.5)\n",
    "\n",
    "utils.train(net, n_epochs, train_dl, loss_function, optimizer, valid_iter=valid_dl, log_dir=RUNS_PATH)"
   ]
  },
  {
   "cell_type": "markdown",
   "metadata": {},
   "source": [
    "## RGB\n",
    "Here only RGB data is kept, so depthmaps are not used."
   ]
  },
  {
   "cell_type": "code",
   "execution_count": 4,
   "metadata": {},
   "outputs": [
    {
     "data": {
      "text/plain": [
       "8370 samples of shape (28, 28, 3)"
      ]
     },
     "execution_count": 4,
     "metadata": {},
     "output_type": "execute_result"
    }
   ],
   "source": [
    "train_ds.depth = False\n",
    "valid_ds.depth = False\n",
    "train_ds"
   ]
  },
  {
   "cell_type": "code",
   "execution_count": 5,
   "metadata": {
    "tags": []
   },
   "outputs": [
    {
     "name": "stdout",
     "output_type": "stream",
     "text": [
      "Training on device: cpu\n",
      "epoch:    0\tloss:0.0229\taccuracy:0.373\tval-accuracy:0.419\n",
      "epoch:    1\tloss:0.0157\taccuracy:0.429\tval-accuracy:0.523\n",
      "epoch:    2\tloss:0.00736\taccuracy:0.607\tval-accuracy:0.619\n",
      "epoch:    3\tloss:0.0079\taccuracy:0.575\tval-accuracy:0.588\n",
      "epoch:    4\tloss:0.00368\taccuracy:0.706\tval-accuracy:0.699\n",
      "epoch:    5\tloss:0.00223\taccuracy:0.781\tval-accuracy:0.54\n",
      "epoch:    6\tloss:0.00712\taccuracy:0.598\tval-accuracy:0.615\n",
      "epoch:    7\tloss:0.00388\taccuracy:0.715\tval-accuracy:0.697\n",
      "epoch:    8\tloss:0.00331\taccuracy:0.764\tval-accuracy:0.385\n",
      "epoch:    9\tloss:0.0024\taccuracy:0.814\tval-accuracy:0.717\n"
     ]
    }
   ],
   "source": [
    "net = utils.SoftmaxRegression(n_inputs=np.prod(train_ds.sample_shape), n_outputs=len(train_ds.classes))\n",
    "loss_function = nn.CrossEntropyLoss()\n",
    "n_epochs, lr = 10, 0.05\n",
    "optimizer = torch.optim.SGD(net.parameters(), lr=lr, momentum=0.5)\n",
    "\n",
    "utils.train(net, n_epochs, train_dl, loss_function, optimizer, valid_iter=valid_dl, log_dir=RUNS_PATH)"
   ]
  },
  {
   "cell_type": "markdown",
   "metadata": {},
   "source": [
    "## Depth-maps"
   ]
  },
  {
   "cell_type": "code",
   "execution_count": 6,
   "metadata": {},
   "outputs": [
    {
     "data": {
      "text/plain": [
       "8370 samples of shape (28, 28, 1)"
      ]
     },
     "execution_count": 6,
     "metadata": {},
     "output_type": "execute_result"
    }
   ],
   "source": [
    "train_ds.depth = True\n",
    "train_ds.rgb = False\n",
    "valid_ds.depth = True\n",
    "valid_ds.rgb = False\n",
    "train_ds"
   ]
  },
  {
   "cell_type": "code",
   "execution_count": 7,
   "metadata": {
    "tags": []
   },
   "outputs": [
    {
     "name": "stdout",
     "output_type": "stream",
     "text": [
      "Training on device: cpu\n",
      "epoch:    0\tloss:0.00421\taccuracy:0.404\tval-accuracy:0.395\n",
      "epoch:    1\tloss:0.00404\taccuracy:0.516\tval-accuracy:0.485\n",
      "epoch:    2\tloss:0.00393\taccuracy:0.576\tval-accuracy:0.537\n",
      "epoch:    3\tloss:0.00384\taccuracy:0.62\tval-accuracy:0.559\n",
      "epoch:    4\tloss:0.00376\taccuracy:0.648\tval-accuracy:0.576\n",
      "epoch:    5\tloss:0.0037\taccuracy:0.658\tval-accuracy:0.59\n",
      "epoch:    6\tloss:0.00364\taccuracy:0.678\tval-accuracy:0.589\n",
      "epoch:    7\tloss:0.00358\taccuracy:0.678\tval-accuracy:0.603\n",
      "epoch:    8\tloss:0.00354\taccuracy:0.69\tval-accuracy:0.61\n",
      "epoch:    9\tloss:0.00349\taccuracy:0.698\tval-accuracy:0.611\n"
     ]
    }
   ],
   "source": [
    "net = utils.SoftmaxRegression(n_inputs=np.prod(train_ds.sample_shape), n_outputs=len(train_ds.classes))\n",
    "loss_function = nn.CrossEntropyLoss()\n",
    "n_epochs, lr = 10, 0.05\n",
    "optimizer = torch.optim.SGD(net.parameters(), lr=lr, momentum=0.5)\n",
    "\n",
    "utils.train(net, n_epochs, train_dl, loss_function, optimizer, valid_iter=valid_dl, log_dir=RUNS_PATH)"
   ]
  }
 ],
 "metadata": {
  "kernelspec": {
   "display_name": "Python 3",
   "language": "python",
   "name": "python3"
  },
  "language_info": {
   "codemirror_mode": {
    "name": "ipython",
    "version": 3
   },
   "file_extension": ".py",
   "mimetype": "text/x-python",
   "name": "python",
   "nbconvert_exporter": "python",
   "pygments_lexer": "ipython3",
   "version": "3.7.6"
  }
 },
 "nbformat": 4,
 "nbformat_minor": 2
}
