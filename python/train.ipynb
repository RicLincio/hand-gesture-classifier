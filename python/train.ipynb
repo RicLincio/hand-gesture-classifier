{
 "metadata": {
  "language_info": {
   "codemirror_mode": {
    "name": "ipython",
    "version": 3
   },
   "file_extension": ".py",
   "mimetype": "text/x-python",
   "name": "python",
   "nbconvert_exporter": "python",
   "pygments_lexer": "ipython3",
   "version": "3.8.5-final"
  },
  "orig_nbformat": 2,
  "kernelspec": {
   "name": "python3",
   "display_name": "Python 3",
   "language": "python"
  }
 },
 "nbformat": 4,
 "nbformat_minor": 2,
 "cells": [
  {
   "source": [
    "# Training notebook\n",
    "In this notebook, Pytorch library is exploited for training different models for data classification. Since images have 4 channels, RGB-D formatted, conventional pretrained models cannot be easily exploited, so instead of transferring learning, they are retrained from scratch. Models found in this notebook are:\n",
    "- Softmax Regression\n",
    "- LeNet\n",
    "\n",
    "## Dataset\n",
    "Dataset is managed by `utils.HandDataset`, a class that subclasses `torch.utils.data.Dataset` and thus can be used to feed an iterator `torch.utils.data.DataLoader`."
   ],
   "cell_type": "markdown",
   "metadata": {}
  },
  {
   "cell_type": "code",
   "execution_count": 1,
   "metadata": {},
   "outputs": [
    {
     "output_type": "stream",
     "name": "stdout",
     "text": [
      "8370 samples of shape (28, 28, 4)\n1440 samples of shape (28, 28, 4)\n\nSample: 7342\nLabel: fist\n"
     ]
    },
    {
     "output_type": "display_data",
     "data": {
      "text/plain": "<Figure size 720x2880 with 4 Axes>",
      "image/svg+xml": "<?xml version=\"1.0\" encoding=\"utf-8\" standalone=\"no\"?>\n<!DOCTYPE svg PUBLIC \"-//W3C//DTD SVG 1.1//EN\"\n  \"http://www.w3.org/Graphics/SVG/1.1/DTD/svg11.dtd\">\n<!-- Created with matplotlib (https://matplotlib.org/) -->\n<svg height=\"150.822473pt\" version=\"1.1\" viewBox=\"0 0 572.4 150.822473\" width=\"572.4pt\" xmlns=\"http://www.w3.org/2000/svg\" xmlns:xlink=\"http://www.w3.org/1999/xlink\">\n <metadata>\n  <rdf:RDF xmlns:cc=\"http://creativecommons.org/ns#\" xmlns:dc=\"http://purl.org/dc/elements/1.1/\" xmlns:rdf=\"http://www.w3.org/1999/02/22-rdf-syntax-ns#\">\n   <cc:Work>\n    <dc:type rdf:resource=\"http://purl.org/dc/dcmitype/StillImage\"/>\n    <dc:date>2020-12-29T17:57:22.136076</dc:date>\n    <dc:format>image/svg+xml</dc:format>\n    <dc:creator>\n     <cc:Agent>\n      <dc:title>Matplotlib v3.3.3, https://matplotlib.org/</dc:title>\n     </cc:Agent>\n    </dc:creator>\n   </cc:Work>\n  </rdf:RDF>\n </metadata>\n <defs>\n  <style type=\"text/css\">*{stroke-linecap:butt;stroke-linejoin:round;}</style>\n </defs>\n <g id=\"figure_1\">\n  <g id=\"patch_1\">\n   <path d=\"M 0 150.822473 \nL 572.4 150.822473 \nL 572.4 0 \nL 0 0 \nz\n\" style=\"fill:none;\"/>\n  </g>\n  <g id=\"axes_1\">\n   <g clip-path=\"url(#pd6d22c3e4c)\">\n    <image height=\"122\" id=\"image1f6f6e252b\" transform=\"scale(1 -1)translate(0 -122)\" width=\"122\" x=\"7.2\" xlink:href=\"data:image/png;base64,\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\" y=\"-21.622473\"/>\n   </g>\n   <g id=\"text_1\">\n    <!-- R -->\n    <g transform=\"translate(63.683111 16.318125)scale(0.12 -0.12)\">\n     <defs>\n      <path d=\"M 44.390625 34.1875 \nQ 47.5625 33.109375 50.5625 29.59375 \nQ 53.5625 26.078125 56.59375 19.921875 \nL 66.609375 0 \nL 56 0 \nL 46.6875 18.703125 \nQ 43.0625 26.03125 39.671875 28.421875 \nQ 36.28125 30.8125 30.421875 30.8125 \nL 19.671875 30.8125 \nL 19.671875 0 \nL 9.8125 0 \nL 9.8125 72.90625 \nL 32.078125 72.90625 \nQ 44.578125 72.90625 50.734375 67.671875 \nQ 56.890625 62.453125 56.890625 51.90625 \nQ 56.890625 45.015625 53.6875 40.46875 \nQ 50.484375 35.9375 44.390625 34.1875 \nz\nM 19.671875 64.796875 \nL 19.671875 38.921875 \nL 32.078125 38.921875 \nQ 39.203125 38.921875 42.84375 42.21875 \nQ 46.484375 45.515625 46.484375 51.90625 \nQ 46.484375 58.296875 42.84375 61.546875 \nQ 39.203125 64.796875 32.078125 64.796875 \nz\n\" id=\"DejaVuSans-82\"/>\n     </defs>\n     <use xlink:href=\"#DejaVuSans-82\"/>\n    </g>\n   </g>\n  </g>\n  <g id=\"axes_2\">\n   <g clip-path=\"url(#pd6f69ec37b)\">\n    <image height=\"122\" id=\"image3b3d8f4703\" transform=\"scale(1 -1)translate(0 -122)\" width=\"122\" x=\"152.765217\" xlink:href=\"data:image/png;base64,\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\" y=\"-21.622473\"/>\n   </g>\n   <g id=\"text_2\">\n    <!-- G -->\n    <g transform=\"translate(208.768329 16.318125)scale(0.12 -0.12)\">\n     <defs>\n      <path d=\"M 59.515625 10.40625 \nL 59.515625 29.984375 \nL 43.40625 29.984375 \nL 43.40625 38.09375 \nL 69.28125 38.09375 \nL 69.28125 6.78125 \nQ 63.578125 2.734375 56.6875 0.65625 \nQ 49.8125 -1.421875 42 -1.421875 \nQ 24.90625 -1.421875 15.25 8.5625 \nQ 5.609375 18.5625 5.609375 36.375 \nQ 5.609375 54.25 15.25 64.234375 \nQ 24.90625 74.21875 42 74.21875 \nQ 49.125 74.21875 55.546875 72.453125 \nQ 61.96875 70.703125 67.390625 67.28125 \nL 67.390625 56.78125 \nQ 61.921875 61.421875 55.765625 63.765625 \nQ 49.609375 66.109375 42.828125 66.109375 \nQ 29.4375 66.109375 22.71875 58.640625 \nQ 16.015625 51.171875 16.015625 36.375 \nQ 16.015625 21.625 22.71875 14.15625 \nQ 29.4375 6.6875 42.828125 6.6875 \nQ 48.046875 6.6875 52.140625 7.59375 \nQ 56.25 8.5 59.515625 10.40625 \nz\n\" id=\"DejaVuSans-71\"/>\n     </defs>\n     <use xlink:href=\"#DejaVuSans-71\"/>\n    </g>\n   </g>\n  </g>\n  <g id=\"axes_3\">\n   <g clip-path=\"url(#pa26a9d00bc)\">\n    <image height=\"122\" id=\"image246d2f3c49\" transform=\"scale(1 -1)translate(0 -122)\" width=\"122\" x=\"298.330435\" xlink:href=\"data:image/png;base64,\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\" y=\"-21.622473\"/>\n   </g>\n   <g id=\"text_3\">\n    <!-- B -->\n    <g transform=\"translate(354.866046 16.318125)scale(0.12 -0.12)\">\n     <defs>\n      <path d=\"M 19.671875 34.8125 \nL 19.671875 8.109375 \nL 35.5 8.109375 \nQ 43.453125 8.109375 47.28125 11.40625 \nQ 51.125 14.703125 51.125 21.484375 \nQ 51.125 28.328125 47.28125 31.5625 \nQ 43.453125 34.8125 35.5 34.8125 \nz\nM 19.671875 64.796875 \nL 19.671875 42.828125 \nL 34.28125 42.828125 \nQ 41.5 42.828125 45.03125 45.53125 \nQ 48.578125 48.25 48.578125 53.8125 \nQ 48.578125 59.328125 45.03125 62.0625 \nQ 41.5 64.796875 34.28125 64.796875 \nz\nM 9.8125 72.90625 \nL 35.015625 72.90625 \nQ 46.296875 72.90625 52.390625 68.21875 \nQ 58.5 63.53125 58.5 54.890625 \nQ 58.5 48.1875 55.375 44.234375 \nQ 52.25 40.28125 46.1875 39.3125 \nQ 53.46875 37.75 57.5 32.78125 \nQ 61.53125 27.828125 61.53125 20.40625 \nQ 61.53125 10.640625 54.890625 5.3125 \nQ 48.25 0 35.984375 0 \nL 9.8125 0 \nz\n\" id=\"DejaVuSans-66\"/>\n     </defs>\n     <use xlink:href=\"#DejaVuSans-66\"/>\n    </g>\n   </g>\n  </g>\n  <g id=\"axes_4\">\n   <g clip-path=\"url(#p9e7d776946)\">\n    <image height=\"122\" id=\"image4b5c83d56c\" transform=\"scale(1 -1)translate(0 -122)\" width=\"122\" x=\"443.895652\" xlink:href=\"data:image/png;base64,\niVBORw0KGgoAAAANSUhEUgAAAHoAAAB6CAYAAABwWUfkAAACuklEQVR4nO3dsWtTURhA8feaalqhliBapFBwEhdFxc3BQRQUF6v4P7jppLuzSxdF0cHJoWJ3d3FQcChV0WrBFgxEtMWmSpo4f7mhRQjpe57z275HLrl4vNyaBszP5lc6mf57Qzu9AQ2GoSEMDWFoCENDGBrC0BCGhjA0hKEhDA1haAhDQxgawtAQhoYwNIShIQwNYWgIQ0MYGsLQEIaGMDSEoSEMDWFoCENDGBrC0BCGhjA0hKEhDA1haAhDQxgawtAQhoYwNIShIQwNMbzTGxiESq0W5k6zGeb2xkayJh+OfzSdVqv/GxsgTzSEoSEMDVHoO3pobCx51l5bi68ZGQlzPr43WZOPVOO8ZzS+oPE9fZ8e93aZeaIhDA1haIhC39HrZ44kz+rH45YPPa2H+ffkeLKmuvwzzJvvP4a5+9/ZWZZlmXe0ysjQEIaGMDREoX8YG135lTx7NvMgzBf33wjz4YeryZrO0tct3yevpT/A5V0fzPhLDZWCoSEMDVHoOzqf/5Q8m109EebF6fthPvr5erLm4NuFLd+ntfjl3zdXMp5oCENDGBoiL9t/FP7h8ckwvzt3L8wvmumXFWauTYe583q+/xsrOE80hKEhDA1haIhCf2DSS+3V7jBXz+8K86lqI1mzdCv+fZ662v99FZ0nGsLQEIaGKN0dPfHyR5gX/qyHeV8lXXPn2FyYH02eDnNreaUveysyTzSEoSEMDVG6O7rd9SWCS7M3w3z7wvNkzd0nl8M81XjT930VnScawtAQhoYwNETpvmGyncrEgeTZ5rd6j1eyeKIhDA1haIjSfWCyHe/j3jzREIaGMDSEoSEMDWFoCENDGBrC0BCGhjA0hKEhDA1haAhDQxgawtAQhoYwNIShIQwNYWgIQ0MYGsLQEIaGMDSEoSEMDWFoCENDGBrC0BCGhvgLsmph0VTmQb0AAAAASUVORK5CYII=\" y=\"-21.622473\"/>\n   </g>\n   <g id=\"text_4\">\n    <!-- D -->\n    <g transform=\"translate(499.927826 16.318125)scale(0.12 -0.12)\">\n     <defs>\n      <path d=\"M 19.671875 64.796875 \nL 19.671875 8.109375 \nL 31.59375 8.109375 \nQ 46.6875 8.109375 53.6875 14.9375 \nQ 60.6875 21.78125 60.6875 36.53125 \nQ 60.6875 51.171875 53.6875 57.984375 \nQ 46.6875 64.796875 31.59375 64.796875 \nz\nM 9.8125 72.90625 \nL 30.078125 72.90625 \nQ 51.265625 72.90625 61.171875 64.09375 \nQ 71.09375 55.28125 71.09375 36.53125 \nQ 71.09375 17.671875 61.125 8.828125 \nQ 51.171875 0 30.078125 0 \nL 9.8125 0 \nz\n\" id=\"DejaVuSans-68\"/>\n     </defs>\n     <use xlink:href=\"#DejaVuSans-68\"/>\n    </g>\n   </g>\n  </g>\n </g>\n <defs>\n  <clipPath id=\"pd6d22c3e4c\">\n   <rect height=\"121.304348\" width=\"121.304348\" x=\"7.2\" y=\"22.318125\"/>\n  </clipPath>\n  <clipPath id=\"pd6f69ec37b\">\n   <rect height=\"121.304348\" width=\"121.304348\" x=\"152.765217\" y=\"22.318125\"/>\n  </clipPath>\n  <clipPath id=\"pa26a9d00bc\">\n   <rect height=\"121.304348\" width=\"121.304348\" x=\"298.330435\" y=\"22.318125\"/>\n  </clipPath>\n  <clipPath id=\"p9e7d776946\">\n   <rect height=\"121.304348\" width=\"121.304348\" x=\"443.895652\" y=\"22.318125\"/>\n  </clipPath>\n </defs>\n</svg>\n",
      "image/png": "[encoded data removed]"
     },
     "metadata": {
      "needs_background": "light"
     }
    }
   ],
   "source": [
    "import numpy as np\n",
    "import pathlib\n",
    "import torch\n",
    "from torch import nn\n",
    "\n",
    "import utils\n",
    "\n",
    "DATA_PATH = pathlib.Path('../data')\n",
    "\n",
    "# dataset filenames\n",
    "train = utils.HandDataset(DATA_PATH/'training_set.mat')\n",
    "valid = utils.HandDataset(DATA_PATH/'validation_set.mat')\n",
    "\n",
    "print(train)\n",
    "print(valid)\n",
    "\n",
    "train.show_sample()\n",
    "\n",
    "# dataset iterators\n",
    "batch_size = 256\n",
    "train_iter = torch.utils.data.DataLoader(train, batch_size=batch_size, shuffle=True)\n",
    "valid_iter = torch.utils.data.DataLoader(valid, batch_size=batch_size, shuffle=False)\n"
   ]
  },
  {
   "source": [
    "## Softmax regression"
   ],
   "cell_type": "markdown",
   "metadata": {}
  },
  {
   "cell_type": "code",
   "execution_count": 2,
   "metadata": {},
   "outputs": [],
   "source": [
    "net = utils.SoftmaxRegression(n_inputs=np.prod(train.sample_shape), n_outputs=len(train.classes))\n",
    "loss_function = nn.CrossEntropyLoss()\n",
    "n_epochs, lr = 10, 0.05\n",
    "optimizer = torch.optim.SGD(net.parameters(), lr=lr, momentum=0.5)"
   ]
  },
  {
   "cell_type": "code",
   "execution_count": 3,
   "metadata": {},
   "outputs": [
    {
     "output_type": "stream",
     "name": "stdout",
     "text": [
      "epoch:    0\tloss:0.0227\taccuracy:0.363\tval-accuracy:0.337\n",
      "epoch:    1\tloss:0.0134\taccuracy:0.487\tval-accuracy:0.522\n",
      "epoch:    2\tloss:0.00902\taccuracy:0.562\tval-accuracy:0.647\n",
      "epoch:    3\tloss:0.00583\taccuracy:0.653\tval-accuracy:0.631\n",
      "epoch:    4\tloss:0.00519\taccuracy:0.665\tval-accuracy:0.653\n",
      "epoch:    5\tloss:0.00192\taccuracy:0.812\tval-accuracy:0.662\n",
      "epoch:    6\tloss:0.00181\taccuracy:0.819\tval-accuracy:0.741\n",
      "epoch:    7\tloss:0.00166\taccuracy:0.835\tval-accuracy:0.753\n",
      "epoch:    8\tloss:0.00123\taccuracy:0.881\tval-accuracy:0.741\n",
      "epoch:    9\tloss:0.00104\taccuracy:0.904\tval-accuracy:0.776\n"
     ]
    }
   ],
   "source": [
    "train_metric = utils.Accumulator(3)  # num. samples; running loss; correct predictions.\n",
    "valid_metric = utils.Accumulator(2)  # num. samples; correct predictions.\n",
    "\n",
    "for epoch in range(n_epochs):  # cycle on epochs\n",
    "\n",
    "    # training\n",
    "    net.train()\n",
    "    train_metric.reset()\n",
    "    valid_metric.reset()\n",
    "\n",
    "    for batch, (X, y) in enumerate(train_iter):  # cycle on mini-batches\n",
    "\n",
    "        # reset the parameter gradients\n",
    "        optimizer.zero_grad()\n",
    "\n",
    "        # forward + backward + optimize\n",
    "        y_hat = net(X)\n",
    "        loss = loss_function(y_hat, y)\n",
    "        loss.backward()\n",
    "        optimizer.step()\n",
    "\n",
    "        # accumulate batch statistics\n",
    "        train_metric.add(\n",
    "            y.size().numel(),\n",
    "            loss.item(),\n",
    "            utils.accuracy(y_hat, y)\n",
    "        )\n",
    "\n",
    "    # validation\n",
    "    net.eval()\n",
    "\n",
    "    for X, y in valid_iter:  # cycle on mini-batches\n",
    "\n",
    "        # forward\n",
    "        y_hat = net(X)\n",
    "        \n",
    "        # accumulate batch statistics\n",
    "        valid_metric.add(\n",
    "            y.size().numel(),\n",
    "            utils.accuracy(y_hat, y)\n",
    "        )\n",
    "    \n",
    "    # print epoch statistics\n",
    "    print(f\"epoch:{epoch:5}\\tloss:{train_metric[1]/train_metric[0]:.3}\\taccuracy:{train_metric[2]/train_metric[0]:.3}\\tval-accuracy:{valid_metric[1]/valid_metric[0]:.3}\")"
   ]
  },
  {
   "source": [
    "## LeNet-5"
   ],
   "cell_type": "markdown",
   "metadata": {}
  },
  {
   "cell_type": "code",
   "execution_count": 6,
   "metadata": {},
   "outputs": [
    {
     "output_type": "stream",
     "name": "stdout",
     "text": [
      "Conv2d output shape: \t torch.Size([1, 6, 28, 28])\nSigmoid output shape: \t torch.Size([1, 6, 28, 28])\nAvgPool2d output shape: \t torch.Size([1, 6, 14, 14])\nConv2d output shape: \t torch.Size([1, 16, 10, 10])\nSigmoid output shape: \t torch.Size([1, 16, 10, 10])\nAvgPool2d output shape: \t torch.Size([1, 16, 5, 5])\nFlatten output shape: \t torch.Size([1, 400])\nLinear output shape: \t torch.Size([1, 120])\nSigmoid output shape: \t torch.Size([1, 120])\nLinear output shape: \t torch.Size([1, 84])\nSigmoid output shape: \t torch.Size([1, 84])\nLinear output shape: \t torch.Size([1, 3])\n"
     ]
    },
    {
     "output_type": "execute_result",
     "data": {
      "text/plain": []
     },
     "metadata": {},
     "execution_count": 6
    }
   ],
   "source": [
    "net = utils.LeNet()\n",
    "net"
   ]
  },
  {
   "cell_type": "code",
   "execution_count": null,
   "metadata": {},
   "outputs": [],
   "source": [
    "metrics.reset()\n",
    "for epoch in range(n_epochs):  # cycle on epochs\n",
    "    for X, y in train_iter:  # cycle on mini-batches\n",
    "\n",
    "        optimizer.zero_grad()  # reset optimizer gradients\n",
    "\n",
    "        y_hat = model['LeNet-5'](X)  # forward pass\n",
    "        l = loss(y_hat, y)  # loss computation\n",
    "        l.backward()  # backpropagation\n",
    "        optimizer.step()  # gradient descent step\n",
    "\n",
    "        metrics.add(float(l)*len(y), utils.accuracy(y_hat, y), y.size().numel())\n",
    "    print(metrics[0] / metrics[2], metrics[1] / metrics[2])"
   ]
  },
  {
   "cell_type": "code",
   "execution_count": 8,
   "metadata": {},
   "outputs": [
    {
     "output_type": "stream",
     "name": "stdout",
     "text": [
      "epoch:    0\tloss:0.00437\taccuracy:0.333\tval-accuracy:0.333\n",
      "epoch:    1\tloss:0.00437\taccuracy:0.333\tval-accuracy:0.333\n",
      "epoch:    2\tloss:0.00437\taccuracy:0.333\tval-accuracy:0.333\n",
      "epoch:    3\tloss:0.00437\taccuracy:0.333\tval-accuracy:0.333\n",
      "epoch:    4\tloss:0.00437\taccuracy:0.333\tval-accuracy:0.333\n",
      "epoch:    5\tloss:0.00437\taccuracy:0.333\tval-accuracy:0.333\n",
      "epoch:    6\tloss:0.00437\taccuracy:0.333\tval-accuracy:0.333\n",
      "epoch:    7\tloss:0.00437\taccuracy:0.333\tval-accuracy:0.333\n",
      "epoch:    8\tloss:0.00437\taccuracy:0.333\tval-accuracy:0.333\n",
      "epoch:    9\tloss:0.00437\taccuracy:0.333\tval-accuracy:0.333\n"
     ]
    }
   ],
   "source": [
    "train_metric = utils.Accumulator(3)  # num. samples; running loss; correct predictions.\n",
    "valid_metric = utils.Accumulator(2)  # num. samples; correct predictions.\n",
    "\n",
    "for epoch in range(n_epochs):  # cycle on epochs\n",
    "\n",
    "    # training\n",
    "    net.train()\n",
    "    train_metric.reset()\n",
    "    valid_metric.reset()\n",
    "\n",
    "    for batch, (X, y) in enumerate(train_iter):  # cycle on mini-batches\n",
    "\n",
    "        # reset the parameter gradients\n",
    "        optimizer.zero_grad()\n",
    "\n",
    "        # forward + backward + optimize\n",
    "        y_hat = net(X)\n",
    "        loss = loss_function(y_hat, y)\n",
    "        loss.backward()\n",
    "        optimizer.step()\n",
    "\n",
    "        # accumulate batch statistics\n",
    "        train_metric.add(\n",
    "            y.size().numel(),\n",
    "            loss.item(),\n",
    "            utils.accuracy(y_hat, y)\n",
    "        )\n",
    "\n",
    "    # validation\n",
    "    net.eval()\n",
    "\n",
    "    for X, y in valid_iter:  # cycle on mini-batches\n",
    "\n",
    "        # forward\n",
    "        y_hat = net(X)\n",
    "        \n",
    "        # accumulate batch statistics\n",
    "        valid_metric.add(\n",
    "            y.size().numel(),\n",
    "            utils.accuracy(y_hat, y)\n",
    "        )\n",
    "    \n",
    "    # print epoch statistics\n",
    "    print(f\"epoch:{epoch:5}\\tloss:{train_metric[1]/train_metric[0]:.3}\\taccuracy:{train_metric[2]/train_metric[0]:.3}\\tval-accuracy:{valid_metric[1]/valid_metric[0]:.3}\")"
   ]
  },
  {
   "cell_type": "code",
   "execution_count": null,
   "metadata": {},
   "outputs": [],
   "source": []
  }
 ]
}