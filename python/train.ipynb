{
 "metadata": {
  "language_info": {
   "codemirror_mode": {
    "name": "ipython",
    "version": 3
   },
   "file_extension": ".py",
   "mimetype": "text/x-python",
   "name": "python",
   "nbconvert_exporter": "python",
   "pygments_lexer": "ipython3",
   "version": "3.8.5-final"
  },
  "orig_nbformat": 2,
  "kernelspec": {
   "name": "python3",
   "display_name": "Python 3",
   "language": "python"
  }
 },
 "nbformat": 4,
 "nbformat_minor": 2,
 "cells": [
  {
   "source": [
    "# Training notebook\n",
    "In this notebook, Pytorch library is exploited for training different models for data classification. Since images have 4 channels, RGB-D formatted, conventional pretrained models cannot be easily exploited, so instead of transferring learning, they are retrained from scratch. Models found in this notebook are:\n",
    "- Softmax Regression\n",
    "- LeNet\n",
    "\n",
    "## Dataset\n",
    "Dataset is managed by `utils.HandDataset`, a class that subclasses `torch.utils.data.Dataset` and thus can be used to feed an iterator `torch.utils.data.DataLoader`."
   ],
   "cell_type": "markdown",
   "metadata": {}
  },
  {
   "cell_type": "code",
   "execution_count": 1,
   "metadata": {},
   "outputs": [
    {
     "output_type": "stream",
     "name": "stdout",
     "text": [
      "8370 samples of shape (28, 28, 4)\n1440 samples of shape (28, 28, 4)\n\nSample: 623\nLabel: hi\n"
     ]
    },
    {
     "output_type": "display_data",
     "data": {
      "text/plain": "<Figure size 720x2880 with 4 Axes>",
      "image/svg+xml": "<?xml version=\"1.0\" encoding=\"utf-8\" standalone=\"no\"?>\n<!DOCTYPE svg PUBLIC \"-//W3C//DTD SVG 1.1//EN\"\n  \"http://www.w3.org/Graphics/SVG/1.1/DTD/svg11.dtd\">\n<!-- Created with matplotlib (https://matplotlib.org/) -->\n<svg height=\"150.822473pt\" version=\"1.1\" viewBox=\"0 0 572.4 150.822473\" width=\"572.4pt\" xmlns=\"http://www.w3.org/2000/svg\" xmlns:xlink=\"http://www.w3.org/1999/xlink\">\n <metadata>\n  <rdf:RDF xmlns:cc=\"http://creativecommons.org/ns#\" xmlns:dc=\"http://purl.org/dc/elements/1.1/\" xmlns:rdf=\"http://www.w3.org/1999/02/22-rdf-syntax-ns#\">\n   <cc:Work>\n    <dc:type rdf:resource=\"http://purl.org/dc/dcmitype/StillImage\"/>\n    <dc:date>2020-12-29T18:06:42.959459</dc:date>\n    <dc:format>image/svg+xml</dc:format>\n    <dc:creator>\n     <cc:Agent>\n      <dc:title>Matplotlib v3.3.3, https://matplotlib.org/</dc:title>\n     </cc:Agent>\n    </dc:creator>\n   </cc:Work>\n  </rdf:RDF>\n </metadata>\n <defs>\n  <style type=\"text/css\">*{stroke-linecap:butt;stroke-linejoin:round;}</style>\n </defs>\n <g id=\"figure_1\">\n  <g id=\"patch_1\">\n   <path d=\"M 0 150.822473 \nL 572.4 150.822473 \nL 572.4 0 \nL 0 0 \nz\n\" style=\"fill:none;\"/>\n  </g>\n  <g id=\"axes_1\">\n   <g clip-path=\"url(#p968660699b)\">\n    <image height=\"122\" id=\"image88e4a8c590\" transform=\"scale(1 -1)translate(0 -122)\" width=\"122\" x=\"7.2\" xlink:href=\"data:image/png;base64,\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\" y=\"-21.622473\"/>\n   </g>\n   <g id=\"text_1\">\n    <!-- R -->\n    <g transform=\"translate(63.683111 16.318125)scale(0.12 -0.12)\">\n     <defs>\n      <path d=\"M 44.390625 34.1875 \nQ 47.5625 33.109375 50.5625 29.59375 \nQ 53.5625 26.078125 56.59375 19.921875 \nL 66.609375 0 \nL 56 0 \nL 46.6875 18.703125 \nQ 43.0625 26.03125 39.671875 28.421875 \nQ 36.28125 30.8125 30.421875 30.8125 \nL 19.671875 30.8125 \nL 19.671875 0 \nL 9.8125 0 \nL 9.8125 72.90625 \nL 32.078125 72.90625 \nQ 44.578125 72.90625 50.734375 67.671875 \nQ 56.890625 62.453125 56.890625 51.90625 \nQ 56.890625 45.015625 53.6875 40.46875 \nQ 50.484375 35.9375 44.390625 34.1875 \nz\nM 19.671875 64.796875 \nL 19.671875 38.921875 \nL 32.078125 38.921875 \nQ 39.203125 38.921875 42.84375 42.21875 \nQ 46.484375 45.515625 46.484375 51.90625 \nQ 46.484375 58.296875 42.84375 61.546875 \nQ 39.203125 64.796875 32.078125 64.796875 \nz\n\" id=\"DejaVuSans-82\"/>\n     </defs>\n     <use xlink:href=\"#DejaVuSans-82\"/>\n    </g>\n   </g>\n  </g>\n  <g id=\"axes_2\">\n   <g clip-path=\"url(#pded314c504)\">\n    <image height=\"122\" id=\"imagea83553c91f\" transform=\"scale(1 -1)translate(0 -122)\" width=\"122\" x=\"152.765217\" xlink:href=\"data:image/png;base64,\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\" y=\"-21.622473\"/>\n   </g>\n   <g id=\"text_2\">\n    <!-- G -->\n    <g transform=\"translate(208.768329 16.318125)scale(0.12 -0.12)\">\n     <defs>\n      <path d=\"M 59.515625 10.40625 \nL 59.515625 29.984375 \nL 43.40625 29.984375 \nL 43.40625 38.09375 \nL 69.28125 38.09375 \nL 69.28125 6.78125 \nQ 63.578125 2.734375 56.6875 0.65625 \nQ 49.8125 -1.421875 42 -1.421875 \nQ 24.90625 -1.421875 15.25 8.5625 \nQ 5.609375 18.5625 5.609375 36.375 \nQ 5.609375 54.25 15.25 64.234375 \nQ 24.90625 74.21875 42 74.21875 \nQ 49.125 74.21875 55.546875 72.453125 \nQ 61.96875 70.703125 67.390625 67.28125 \nL 67.390625 56.78125 \nQ 61.921875 61.421875 55.765625 63.765625 \nQ 49.609375 66.109375 42.828125 66.109375 \nQ 29.4375 66.109375 22.71875 58.640625 \nQ 16.015625 51.171875 16.015625 36.375 \nQ 16.015625 21.625 22.71875 14.15625 \nQ 29.4375 6.6875 42.828125 6.6875 \nQ 48.046875 6.6875 52.140625 7.59375 \nQ 56.25 8.5 59.515625 10.40625 \nz\n\" id=\"DejaVuSans-71\"/>\n     </defs>\n     <use xlink:href=\"#DejaVuSans-71\"/>\n    </g>\n   </g>\n  </g>\n  <g id=\"axes_3\">\n   <g clip-path=\"url(#p826fc2ea3b)\">\n    <image height=\"122\" id=\"image773a23a880\" transform=\"scale(1 -1)translate(0 -122)\" width=\"122\" x=\"298.330435\" xlink:href=\"data:image/png;base64,\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\" y=\"-21.622473\"/>\n   </g>\n   <g id=\"text_3\">\n    <!-- B -->\n    <g transform=\"translate(354.866046 16.318125)scale(0.12 -0.12)\">\n     <defs>\n      <path d=\"M 19.671875 34.8125 \nL 19.671875 8.109375 \nL 35.5 8.109375 \nQ 43.453125 8.109375 47.28125 11.40625 \nQ 51.125 14.703125 51.125 21.484375 \nQ 51.125 28.328125 47.28125 31.5625 \nQ 43.453125 34.8125 35.5 34.8125 \nz\nM 19.671875 64.796875 \nL 19.671875 42.828125 \nL 34.28125 42.828125 \nQ 41.5 42.828125 45.03125 45.53125 \nQ 48.578125 48.25 48.578125 53.8125 \nQ 48.578125 59.328125 45.03125 62.0625 \nQ 41.5 64.796875 34.28125 64.796875 \nz\nM 9.8125 72.90625 \nL 35.015625 72.90625 \nQ 46.296875 72.90625 52.390625 68.21875 \nQ 58.5 63.53125 58.5 54.890625 \nQ 58.5 48.1875 55.375 44.234375 \nQ 52.25 40.28125 46.1875 39.3125 \nQ 53.46875 37.75 57.5 32.78125 \nQ 61.53125 27.828125 61.53125 20.40625 \nQ 61.53125 10.640625 54.890625 5.3125 \nQ 48.25 0 35.984375 0 \nL 9.8125 0 \nz\n\" id=\"DejaVuSans-66\"/>\n     </defs>\n     <use xlink:href=\"#DejaVuSans-66\"/>\n    </g>\n   </g>\n  </g>\n  <g id=\"axes_4\">\n   <g clip-path=\"url(#p445e6f8160)\">\n    <image height=\"122\" id=\"imageee6e90da37\" transform=\"scale(1 -1)translate(0 -122)\" width=\"122\" x=\"443.895652\" xlink:href=\"data:image/png;base64,\niVBORw0KGgoAAAANSUhEUgAAAHoAAAB6CAYAAABwWUfkAAAEL0lEQVR4nO2dTUtUURjHz52rjq85+ZpjKJIktMhVi15wESLVzrBNmz5A9Ana9CFq0a5oFbQJCvoAMRAKQQYKWipqpWmoo6Pm3Llt+98zpMiMc27//2/33LmP9w4/Hp7jOfee8Ya9sdCI/55EpW9AnAwSTYJEkyDRJEg0CRJNgkSTINEkSDQJEk2CRJMg0SRINAkSTYJEkyDRJFRV6sKJ+nrrWCGXK9PF/MiFgsNTmprwQIA5ZbvXMqGKJkGiSZBoEiSahIoNxk4SvyUFcZjbhbjYwMrr6sCcpe8lv6+TRBVNgkSTINEkVKxHH3fCwe/vg3jhThfEPY8niyThhEn02tbkiDHm5zXs0TXb7RA3vhq3rxOdiDnGRE25UEWTINEkSDQJEk1C7CdMekfmIZ7uvmCdc/45Dr42Rs5B3PwVJ1CMMWZjAON8xwHEA3P2dcLxyECwgoOvKKpoEiSaBIkmIXY9Opidg/jH6ysQXxz9YuV8etANsV+FPXk7if3XGGNmLj+DeGhyFGJves3KcXmPEFU0CRJNgkSTELseHcUrHH5OXxr76V4ev3ZXw5aVsxrs/PuPBu78j3wUVNEkSDQJEk2CRJMQu8GYV10D8ebgb4izB0kr5yDAJz18D6c2plY7rZyri/chbn1bC3HT6X0rx+XXdFTRJEg0CRJNQux6dKKhDuJkE/bKaD82xp4gSTfiBMntsx+tnKcvb0Gc7cHPm5e/HXqvLqGKJkGiSZBoEmLXo8PeNMStp3DxIQg9K6faxwWIxa1miN88um7l9L6fgNg/E3m7sq3VygnW1ovcsRuookmQaBIkmgSJJsHpwVixvchm76Ygrsrg4Kv+kv105q+1yGux+zip0r5tv6kRHuBiSX5xCWI/hQM611FFkyDRJEg0CU736JV7g9axls8YV+dwMiS71Wbl1DVg3DmB/Xfhpr21RU+RnSv+JtjY/PcJjqGKJkGiSZBoEpzq0dFtoMKEvUCRepGBePEhvk2ZzuxZOQs38IHBug8zEBeG7N0L/MiihcsLFkdBFU2CRJMg0SRINAlODcYK2SzEHU8y1jl+Jz7pkcjj58k5e1HDK+DWFoUdXMRonbQ3pfCS9hsfcUYVTYJEkyDRJDjVo49Cvh+fAq1dx/4a7toTJv4+TryEkW0pUu+m7OvEbNHiMFTRJEg0CRJNQux6dPX8KsSdy/gVim3TWLcSORrZXjluDxEcB1U0CRJNgkSTINEkeMPemMvbTJcGh35orFKookmQaBIkmoTSTJhEe6AxbvVBl+6lQqiiSZBoEiSaBIkmoSSDMc+3B2OhBkBOoYomQaJJkGgSStKjo1s1CfdQRZMg0SRINAkSTYJEkyDRJEg0CRJNgkSTINEkSDQJEk2CRJMg0SRINAkSTYJEkyDRJEg0CRJNgkSTINEkSDQJEk2CRJPwBzSG1yQZJNCFAAAAAElFTkSuQmCC\" y=\"-21.622473\"/>\n   </g>\n   <g id=\"text_4\">\n    <!-- D -->\n    <g transform=\"translate(499.927826 16.318125)scale(0.12 -0.12)\">\n     <defs>\n      <path d=\"M 19.671875 64.796875 \nL 19.671875 8.109375 \nL 31.59375 8.109375 \nQ 46.6875 8.109375 53.6875 14.9375 \nQ 60.6875 21.78125 60.6875 36.53125 \nQ 60.6875 51.171875 53.6875 57.984375 \nQ 46.6875 64.796875 31.59375 64.796875 \nz\nM 9.8125 72.90625 \nL 30.078125 72.90625 \nQ 51.265625 72.90625 61.171875 64.09375 \nQ 71.09375 55.28125 71.09375 36.53125 \nQ 71.09375 17.671875 61.125 8.828125 \nQ 51.171875 0 30.078125 0 \nL 9.8125 0 \nz\n\" id=\"DejaVuSans-68\"/>\n     </defs>\n     <use xlink:href=\"#DejaVuSans-68\"/>\n    </g>\n   </g>\n  </g>\n </g>\n <defs>\n  <clipPath id=\"p968660699b\">\n   <rect height=\"121.304348\" width=\"121.304348\" x=\"7.2\" y=\"22.318125\"/>\n  </clipPath>\n  <clipPath id=\"pded314c504\">\n   <rect height=\"121.304348\" width=\"121.304348\" x=\"152.765217\" y=\"22.318125\"/>\n  </clipPath>\n  <clipPath id=\"p826fc2ea3b\">\n   <rect height=\"121.304348\" width=\"121.304348\" x=\"298.330435\" y=\"22.318125\"/>\n  </clipPath>\n  <clipPath id=\"p445e6f8160\">\n   <rect height=\"121.304348\" width=\"121.304348\" x=\"443.895652\" y=\"22.318125\"/>\n  </clipPath>\n </defs>\n</svg>\n",
      "image/png": "[encoded data removed]"
     },
     "metadata": {
      "needs_background": "light"
     }
    }
   ],
   "source": [
    "import numpy as np\n",
    "import pathlib\n",
    "import torch\n",
    "from torch import nn\n",
    "\n",
    "import utils\n",
    "\n",
    "DATA_PATH = pathlib.Path('../data')\n",
    "\n",
    "# dataset filenames\n",
    "train = utils.HandDataset(DATA_PATH/'training_set.mat')\n",
    "valid = utils.HandDataset(DATA_PATH/'validation_set.mat')\n",
    "\n",
    "print(train)\n",
    "print(valid)\n",
    "\n",
    "train.show_sample()\n",
    "\n",
    "# dataset iterators\n",
    "batch_size = 256\n",
    "train_iter = torch.utils.data.DataLoader(train, batch_size=batch_size, shuffle=True)\n",
    "valid_iter = torch.utils.data.DataLoader(valid, batch_size=batch_size, shuffle=False)\n"
   ]
  },
  {
   "source": [
    "## Softmax regression"
   ],
   "cell_type": "markdown",
   "metadata": {}
  },
  {
   "cell_type": "code",
   "execution_count": 2,
   "metadata": {},
   "outputs": [],
   "source": [
    "net = utils.SoftmaxRegression(n_inputs=np.prod(train.sample_shape), n_outputs=len(train.classes))\n",
    "loss_function = nn.CrossEntropyLoss()\n",
    "n_epochs, lr = 10, 0.05\n",
    "optimizer = torch.optim.SGD(net.parameters(), lr=lr, momentum=0.5)"
   ]
  },
  {
   "cell_type": "code",
   "execution_count": 3,
   "metadata": {},
   "outputs": [
    {
     "output_type": "stream",
     "name": "stdout",
     "text": [
      "epoch:    0\tloss:0.0242\taccuracy:0.382\tval-accuracy:0.374\n",
      "epoch:    1\tloss:0.0144\taccuracy:0.459\tval-accuracy:0.565\n",
      "epoch:    2\tloss:0.00988\taccuracy:0.549\tval-accuracy:0.603\n",
      "epoch:    3\tloss:0.00258\taccuracy:0.751\tval-accuracy:0.622\n",
      "epoch:    4\tloss:0.00263\taccuracy:0.743\tval-accuracy:0.658\n",
      "epoch:    5\tloss:0.00571\taccuracy:0.665\tval-accuracy:0.722\n",
      "epoch:    6\tloss:0.00154\taccuracy:0.849\tval-accuracy:0.679\n",
      "epoch:    7\tloss:0.00149\taccuracy:0.859\tval-accuracy:0.723\n",
      "epoch:    8\tloss:0.00145\taccuracy:0.864\tval-accuracy:0.772\n",
      "epoch:    9\tloss:0.00114\taccuracy:0.89\tval-accuracy:0.792\n"
     ]
    }
   ],
   "source": [
    "train_metric = utils.Accumulator(3)  # num. samples; running loss; correct predictions.\n",
    "valid_metric = utils.Accumulator(2)  # num. samples; correct predictions.\n",
    "\n",
    "for epoch in range(n_epochs):  # cycle on epochs\n",
    "\n",
    "    # training\n",
    "    net.train()\n",
    "    train_metric.reset()\n",
    "    valid_metric.reset()\n",
    "\n",
    "    for batch, (X, y) in enumerate(train_iter):  # cycle on mini-batches\n",
    "\n",
    "        # reset the parameter gradients\n",
    "        optimizer.zero_grad()\n",
    "\n",
    "        # forward + backward + optimize\n",
    "        y_hat = net(X)\n",
    "        loss = loss_function(y_hat, y)\n",
    "        loss.backward()\n",
    "        optimizer.step()\n",
    "\n",
    "        # accumulate batch statistics\n",
    "        train_metric.add(\n",
    "            y.size().numel(),\n",
    "            loss.item(),\n",
    "            utils.accuracy(y_hat, y)\n",
    "        )\n",
    "\n",
    "    # validation\n",
    "    net.eval()\n",
    "\n",
    "    for X, y in valid_iter:  # cycle on mini-batches\n",
    "\n",
    "        # forward\n",
    "        y_hat = net(X)\n",
    "        \n",
    "        # accumulate batch statistics\n",
    "        valid_metric.add(\n",
    "            y.size().numel(),\n",
    "            utils.accuracy(y_hat, y)\n",
    "        )\n",
    "    \n",
    "    # print epoch statistics\n",
    "    print(f\"epoch:{epoch:5}\\tloss:{train_metric[1]/train_metric[0]:.3}\\taccuracy:{train_metric[2]/train_metric[0]:.3}\\tval-accuracy:{valid_metric[1]/valid_metric[0]:.3}\")"
   ]
  },
  {
   "source": [
    "## LeNet-5"
   ],
   "cell_type": "markdown",
   "metadata": {}
  },
  {
   "cell_type": "code",
   "execution_count": 4,
   "metadata": {},
   "outputs": [
    {
     "output_type": "stream",
     "name": "stdout",
     "text": [
      "Conv2d output shape: \t torch.Size([1, 6, 28, 28])\nSigmoid output shape: \t torch.Size([1, 6, 28, 28])\nAvgPool2d output shape: \t torch.Size([1, 6, 14, 14])\nConv2d output shape: \t torch.Size([1, 16, 10, 10])\nSigmoid output shape: \t torch.Size([1, 16, 10, 10])\nAvgPool2d output shape: \t torch.Size([1, 16, 5, 5])\nFlatten output shape: \t torch.Size([1, 400])\nLinear output shape: \t torch.Size([1, 120])\nSigmoid output shape: \t torch.Size([1, 120])\nLinear output shape: \t torch.Size([1, 84])\nSigmoid output shape: \t torch.Size([1, 84])\nLinear output shape: \t torch.Size([1, 3])\n"
     ]
    },
    {
     "output_type": "execute_result",
     "data": {
      "text/plain": []
     },
     "metadata": {},
     "execution_count": 4
    }
   ],
   "source": [
    "net = utils.LeNet()\n",
    "net"
   ]
  },
  {
   "cell_type": "code",
   "execution_count": 5,
   "metadata": {},
   "outputs": [
    {
     "output_type": "stream",
     "name": "stdout",
     "text": [
      "epoch:    0\tloss:0.00434\taccuracy:0.333\tval-accuracy:0.333\n",
      "epoch:    1\tloss:0.00434\taccuracy:0.333\tval-accuracy:0.333\n",
      "epoch:    2\tloss:0.00434\taccuracy:0.333\tval-accuracy:0.333\n",
      "epoch:    3\tloss:0.00434\taccuracy:0.333\tval-accuracy:0.333\n",
      "epoch:    4\tloss:0.00434\taccuracy:0.333\tval-accuracy:0.333\n",
      "epoch:    5\tloss:0.00434\taccuracy:0.333\tval-accuracy:0.333\n",
      "epoch:    6\tloss:0.00434\taccuracy:0.333\tval-accuracy:0.333\n",
      "epoch:    7\tloss:0.00434\taccuracy:0.333\tval-accuracy:0.333\n",
      "epoch:    8\tloss:0.00434\taccuracy:0.333\tval-accuracy:0.333\n",
      "epoch:    9\tloss:0.00434\taccuracy:0.333\tval-accuracy:0.333\n"
     ]
    }
   ],
   "source": [
    "train_metric = utils.Accumulator(3)  # num. samples; running loss; correct predictions.\n",
    "valid_metric = utils.Accumulator(2)  # num. samples; correct predictions.\n",
    "\n",
    "for epoch in range(n_epochs):  # cycle on epochs\n",
    "\n",
    "    # training\n",
    "    net.train()\n",
    "    train_metric.reset()\n",
    "    valid_metric.reset()\n",
    "\n",
    "    for batch, (X, y) in enumerate(train_iter):  # cycle on mini-batches\n",
    "\n",
    "        # reset the parameter gradients\n",
    "        optimizer.zero_grad()\n",
    "\n",
    "        # forward + backward + optimize\n",
    "        y_hat = net(X)\n",
    "        loss = loss_function(y_hat, y)\n",
    "        loss.backward()\n",
    "        optimizer.step()\n",
    "\n",
    "        # accumulate batch statistics\n",
    "        train_metric.add(\n",
    "            y.size().numel(),\n",
    "            loss.item(),\n",
    "            utils.accuracy(y_hat, y)\n",
    "        )\n",
    "\n",
    "    # validation\n",
    "    net.eval()\n",
    "\n",
    "    for X, y in valid_iter:  # cycle on mini-batches\n",
    "\n",
    "        # forward\n",
    "        y_hat = net(X)\n",
    "        \n",
    "        # accumulate batch statistics\n",
    "        valid_metric.add(\n",
    "            y.size().numel(),\n",
    "            utils.accuracy(y_hat, y)\n",
    "        )\n",
    "    \n",
    "    # print epoch statistics\n",
    "    print(f\"epoch:{epoch:5}\\tloss:{train_metric[1]/train_metric[0]:.3}\\taccuracy:{train_metric[2]/train_metric[0]:.3}\\tval-accuracy:{valid_metric[1]/valid_metric[0]:.3}\")"
   ]
  },
  {
   "cell_type": "code",
   "execution_count": null,
   "metadata": {},
   "outputs": [],
   "source": []
  }
 ]
}