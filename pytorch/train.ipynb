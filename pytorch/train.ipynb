{
 "metadata": {
  "language_info": {
   "codemirror_mode": {
    "name": "ipython",
    "version": 3
   },
   "file_extension": ".py",
   "mimetype": "text/x-python",
   "name": "python",
   "nbconvert_exporter": "python",
   "pygments_lexer": "ipython3",
   "version": "3.8.5-final"
  },
  "orig_nbformat": 2,
  "kernelspec": {
   "name": "python3",
   "display_name": "Python 3",
   "language": "python"
  }
 },
 "nbformat": 4,
 "nbformat_minor": 2,
 "cells": [
  {
   "source": [
    "# Training notebook\n",
    "In this notebook, Pytorch library is exploited for training different models for data classification. Since images have 4 channels, RGB-D formatted, conventional pretrained models cannot be easily exploited, so instead of transferring learning, they are retrained from scratch. Models found in this notebook are:\n",
    "- Softmax Regression\n",
    "- LeNet\n",
    "\n",
    "## Dataset\n",
    "Dataset is managed by `utils.HandDataset`, a class that subclasses `torch.utils.data.Dataset` and thus can be used to feed an iterator `torch.utils.data.DataLoader`."
   ],
   "cell_type": "markdown",
   "metadata": {}
  },
  {
   "cell_type": "code",
   "execution_count": 1,
   "metadata": {},
   "outputs": [
    {
     "output_type": "stream",
     "name": "stdout",
     "text": [
      "8370 samples of shape (28, 28, 4)\n1440 samples of shape (28, 28, 4)\n\nSample: 4063\nLabel: fist\n"
     ]
    },
    {
     "output_type": "display_data",
     "data": {
      "text/plain": "<Figure size 720x2880 with 4 Axes>",
      "image/svg+xml": "<?xml version=\"1.0\" encoding=\"utf-8\" standalone=\"no\"?>\n<!DOCTYPE svg PUBLIC \"-//W3C//DTD SVG 1.1//EN\"\n  \"http://www.w3.org/Graphics/SVG/1.1/DTD/svg11.dtd\">\n<!-- Created with matplotlib (https://matplotlib.org/) -->\n<svg height=\"150.822473pt\" version=\"1.1\" viewBox=\"0 0 572.4 150.822473\" width=\"572.4pt\" xmlns=\"http://www.w3.org/2000/svg\" xmlns:xlink=\"http://www.w3.org/1999/xlink\">\n <metadata>\n  <rdf:RDF xmlns:cc=\"http://creativecommons.org/ns#\" xmlns:dc=\"http://purl.org/dc/elements/1.1/\" xmlns:rdf=\"http://www.w3.org/1999/02/22-rdf-syntax-ns#\">\n   <cc:Work>\n    <dc:type rdf:resource=\"http://purl.org/dc/dcmitype/StillImage\"/>\n    <dc:date>2021-01-02T19:07:54.472239</dc:date>\n    <dc:format>image/svg+xml</dc:format>\n    <dc:creator>\n     <cc:Agent>\n      <dc:title>Matplotlib v3.3.3, https://matplotlib.org/</dc:title>\n     </cc:Agent>\n    </dc:creator>\n   </cc:Work>\n  </rdf:RDF>\n </metadata>\n <defs>\n  <style type=\"text/css\">*{stroke-linecap:butt;stroke-linejoin:round;}</style>\n </defs>\n <g id=\"figure_1\">\n  <g id=\"patch_1\">\n   <path d=\"M 0 150.822473 \nL 572.4 150.822473 \nL 572.4 0 \nL 0 0 \nz\n\" style=\"fill:none;\"/>\n  </g>\n  <g id=\"axes_1\">\n   <g clip-path=\"url(#p8ee898fed7)\">\n    <image height=\"122\" id=\"image623d9c8506\" transform=\"scale(1 -1)translate(0 -122)\" width=\"122\" x=\"7.2\" xlink:href=\"data:image/png;base64,\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\" y=\"-21.622473\"/>\n   </g>\n   <g id=\"text_1\">\n    <!-- R -->\n    <g transform=\"translate(63.683111 16.318125)scale(0.12 -0.12)\">\n     <defs>\n      <path d=\"M 44.390625 34.1875 \nQ 47.5625 33.109375 50.5625 29.59375 \nQ 53.5625 26.078125 56.59375 19.921875 \nL 66.609375 0 \nL 56 0 \nL 46.6875 18.703125 \nQ 43.0625 26.03125 39.671875 28.421875 \nQ 36.28125 30.8125 30.421875 30.8125 \nL 19.671875 30.8125 \nL 19.671875 0 \nL 9.8125 0 \nL 9.8125 72.90625 \nL 32.078125 72.90625 \nQ 44.578125 72.90625 50.734375 67.671875 \nQ 56.890625 62.453125 56.890625 51.90625 \nQ 56.890625 45.015625 53.6875 40.46875 \nQ 50.484375 35.9375 44.390625 34.1875 \nz\nM 19.671875 64.796875 \nL 19.671875 38.921875 \nL 32.078125 38.921875 \nQ 39.203125 38.921875 42.84375 42.21875 \nQ 46.484375 45.515625 46.484375 51.90625 \nQ 46.484375 58.296875 42.84375 61.546875 \nQ 39.203125 64.796875 32.078125 64.796875 \nz\n\" id=\"DejaVuSans-82\"/>\n     </defs>\n     <use xlink:href=\"#DejaVuSans-82\"/>\n    </g>\n   </g>\n  </g>\n  <g id=\"axes_2\">\n   <g clip-path=\"url(#pf879b62a37)\">\n    <image height=\"122\" id=\"image2af404f334\" transform=\"scale(1 -1)translate(0 -122)\" width=\"122\" x=\"152.765217\" xlink:href=\"data:image/png;base64,\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\" y=\"-21.622473\"/>\n   </g>\n   <g id=\"text_2\">\n    <!-- G -->\n    <g transform=\"translate(208.768329 16.318125)scale(0.12 -0.12)\">\n     <defs>\n      <path d=\"M 59.515625 10.40625 \nL 59.515625 29.984375 \nL 43.40625 29.984375 \nL 43.40625 38.09375 \nL 69.28125 38.09375 \nL 69.28125 6.78125 \nQ 63.578125 2.734375 56.6875 0.65625 \nQ 49.8125 -1.421875 42 -1.421875 \nQ 24.90625 -1.421875 15.25 8.5625 \nQ 5.609375 18.5625 5.609375 36.375 \nQ 5.609375 54.25 15.25 64.234375 \nQ 24.90625 74.21875 42 74.21875 \nQ 49.125 74.21875 55.546875 72.453125 \nQ 61.96875 70.703125 67.390625 67.28125 \nL 67.390625 56.78125 \nQ 61.921875 61.421875 55.765625 63.765625 \nQ 49.609375 66.109375 42.828125 66.109375 \nQ 29.4375 66.109375 22.71875 58.640625 \nQ 16.015625 51.171875 16.015625 36.375 \nQ 16.015625 21.625 22.71875 14.15625 \nQ 29.4375 6.6875 42.828125 6.6875 \nQ 48.046875 6.6875 52.140625 7.59375 \nQ 56.25 8.5 59.515625 10.40625 \nz\n\" id=\"DejaVuSans-71\"/>\n     </defs>\n     <use xlink:href=\"#DejaVuSans-71\"/>\n    </g>\n   </g>\n  </g>\n  <g id=\"axes_3\">\n   <g clip-path=\"url(#p448f72a213)\">\n    <image height=\"122\" id=\"image26bc1c1827\" transform=\"scale(1 -1)translate(0 -122)\" width=\"122\" x=\"298.330435\" xlink:href=\"data:image/png;base64,\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\" y=\"-21.622473\"/>\n   </g>\n   <g id=\"text_3\">\n    <!-- B -->\n    <g transform=\"translate(354.866046 16.318125)scale(0.12 -0.12)\">\n     <defs>\n      <path d=\"M 19.671875 34.8125 \nL 19.671875 8.109375 \nL 35.5 8.109375 \nQ 43.453125 8.109375 47.28125 11.40625 \nQ 51.125 14.703125 51.125 21.484375 \nQ 51.125 28.328125 47.28125 31.5625 \nQ 43.453125 34.8125 35.5 34.8125 \nz\nM 19.671875 64.796875 \nL 19.671875 42.828125 \nL 34.28125 42.828125 \nQ 41.5 42.828125 45.03125 45.53125 \nQ 48.578125 48.25 48.578125 53.8125 \nQ 48.578125 59.328125 45.03125 62.0625 \nQ 41.5 64.796875 34.28125 64.796875 \nz\nM 9.8125 72.90625 \nL 35.015625 72.90625 \nQ 46.296875 72.90625 52.390625 68.21875 \nQ 58.5 63.53125 58.5 54.890625 \nQ 58.5 48.1875 55.375 44.234375 \nQ 52.25 40.28125 46.1875 39.3125 \nQ 53.46875 37.75 57.5 32.78125 \nQ 61.53125 27.828125 61.53125 20.40625 \nQ 61.53125 10.640625 54.890625 5.3125 \nQ 48.25 0 35.984375 0 \nL 9.8125 0 \nz\n\" id=\"DejaVuSans-66\"/>\n     </defs>\n     <use xlink:href=\"#DejaVuSans-66\"/>\n    </g>\n   </g>\n  </g>\n  <g id=\"axes_4\">\n   <g clip-path=\"url(#p85a5066ef0)\">\n    <image height=\"122\" id=\"imagede75e14305\" transform=\"scale(1 -1)translate(0 -122)\" width=\"122\" x=\"443.895652\" xlink:href=\"data:image/png;base64,\niVBORw0KGgoAAAANSUhEUgAAAHoAAAB6CAYAAABwWUfkAAADC0lEQVR4nO3dS0tUYRyA8bk0aFrmoCkaXahNF0K6gNAy+gJCy75AG1ct+wzt+wKtKmgVCC1qZ0RtKq0saJGh6aQpNSYztv7PKxqzcM7xeX67/zDveOLx5R3zMBZvFG9uFbTvlTp9AdobhoYwNIShIQwNYWgIQ0MYGsLQEIaGMDSEoSEMDWFoCENDGBrC0BCGhjA0hKEhDA1haAhDQxgawtAQhoYwNIShIQwNYWiIA52+gD1RKse52ejMdXSQOxrC0BCGhsjdGV28dCHM9ZGeMHcv/knW/D4Wn1OvxjN74PXPZE2pthbmxsKPMG9t/t39YjPEHQ1haAhDQ2T6jC73H0keqw90h/nbrc0w9x1Oz86Jk6/CPPX9XJg/jg0na4Ze9oe5OhXP/sZyLb3gDHNHQxgawtAQhobI9Juxz3fOJ4911YphPnU/vkman6wka+4Ozu74dR68GEm/zmp8k9f8tb7ja2SdOxrC0BCGhsj0Gd33JX2sObEU5vmuwbjmYVey5urT22GufqqH+dTbnc/wQqFQaOTslxit3NEQhoYwNESmz+ijTz4kj82MnwlzZSz+fLtU7U3WHJ+K52vp+ZswE24VdEdDGBrC0BCGhijm7Q+cLUxeC/P6eHrXZ6tiMf4Ty3MHw3z63vtkTWNltY2ryy53NIShIQwNken/MNnO6LPlMM9ePhTmUqW562tULsbzd+362eQ5PY+n27i67HJHQxgawtAQuTujGzNzYe59Nx7mjSvpTXzNRjl5LKzpS7/fe7Z5Xp65oyEMDWFoCEND5O7NWOtHR514NB/mr6XRZEl5o+UlKvGXGoPT8WMrCoX9d9eJOxrC0BCGhsjdjQdqjzsawtAQhoYwNIShIQwNYWgIQ0MYGsLQEIaGMDSEoSEMDWFoCENDGBrC0BCGhjA0hKEhDA1haAhDQxgawtAQhoYwNIShIQwNkb+PtmhDeXgozM3aSpi3cv7Hy/6HOxrC0BCGhkCc0Y2FxU5fQse5oyEMDWFoCENDGBrC0BCGhjA0hKEhDA1haAhDQ/wD0eV1ndSkBVYAAAAASUVORK5CYII=\" y=\"-21.622473\"/>\n   </g>\n   <g id=\"text_4\">\n    <!-- D -->\n    <g transform=\"translate(499.927826 16.318125)scale(0.12 -0.12)\">\n     <defs>\n      <path d=\"M 19.671875 64.796875 \nL 19.671875 8.109375 \nL 31.59375 8.109375 \nQ 46.6875 8.109375 53.6875 14.9375 \nQ 60.6875 21.78125 60.6875 36.53125 \nQ 60.6875 51.171875 53.6875 57.984375 \nQ 46.6875 64.796875 31.59375 64.796875 \nz\nM 9.8125 72.90625 \nL 30.078125 72.90625 \nQ 51.265625 72.90625 61.171875 64.09375 \nQ 71.09375 55.28125 71.09375 36.53125 \nQ 71.09375 17.671875 61.125 8.828125 \nQ 51.171875 0 30.078125 0 \nL 9.8125 0 \nz\n\" id=\"DejaVuSans-68\"/>\n     </defs>\n     <use xlink:href=\"#DejaVuSans-68\"/>\n    </g>\n   </g>\n  </g>\n </g>\n <defs>\n  <clipPath id=\"p8ee898fed7\">\n   <rect height=\"121.304348\" width=\"121.304348\" x=\"7.2\" y=\"22.318125\"/>\n  </clipPath>\n  <clipPath id=\"pf879b62a37\">\n   <rect height=\"121.304348\" width=\"121.304348\" x=\"152.765217\" y=\"22.318125\"/>\n  </clipPath>\n  <clipPath id=\"p448f72a213\">\n   <rect height=\"121.304348\" width=\"121.304348\" x=\"298.330435\" y=\"22.318125\"/>\n  </clipPath>\n  <clipPath id=\"p85a5066ef0\">\n   <rect height=\"121.304348\" width=\"121.304348\" x=\"443.895652\" y=\"22.318125\"/>\n  </clipPath>\n </defs>\n</svg>\n",
      "image/png": "[encoded data removed]"
     },
     "metadata": {
      "needs_background": "light"
     }
    }
   ],
   "source": [
    "import numpy as np\n",
    "import pathlib\n",
    "import torch\n",
    "from torch import nn\n",
    "\n",
    "import utils\n",
    "\n",
    "DATA_PATH = pathlib.Path('../data')\n",
    "\n",
    "device = torch.device(\"cuda:0\" if torch.cuda.is_available() else \"cpu\")\n",
    "\n",
    "# dataset filenames\n",
    "train = utils.HandDataset(DATA_PATH/'training_set.mat')\n",
    "valid = utils.HandDataset(DATA_PATH/'validation_set.mat')\n",
    "\n",
    "print(train)\n",
    "print(valid)\n",
    "\n",
    "train.show_sample()\n",
    "\n",
    "# dataset iterators\n",
    "batch_size = 256\n",
    "train_iter = torch.utils.data.DataLoader(train, batch_size=batch_size, shuffle=True)\n",
    "valid_iter = torch.utils.data.DataLoader(valid, batch_size=batch_size, shuffle=False)\n"
   ]
  },
  {
   "source": [
    "## Softmax regression"
   ],
   "cell_type": "markdown",
   "metadata": {}
  },
  {
   "cell_type": "code",
   "execution_count": 2,
   "metadata": {},
   "outputs": [],
   "source": [
    "net = utils.SoftmaxRegression(n_inputs=np.prod(train.sample_shape), n_outputs=len(train.classes))\n",
    "loss_function = nn.CrossEntropyLoss()\n",
    "n_epochs, lr = 1000, 0.05\n",
    "optimizer = torch.optim.SGD(net.parameters(), lr=lr, momentum=0.5)"
   ]
  },
  {
   "cell_type": "code",
   "execution_count": 3,
   "metadata": {
    "tags": []
   },
   "outputs": [
    {
     "output_type": "stream",
     "name": "stdout",
     "text": [
      "Training on device: cpu\n",
      "epoch:    0\tloss:0.0227\taccuracy:0.378\tval-accuracy:0.417\n",
      "epoch:    1\tloss:0.0128\taccuracy:0.492\tval-accuracy:0.544\n",
      "epoch:    2\tloss:0.00337\taccuracy:0.696\tval-accuracy:0.551\n",
      "epoch:    3\tloss:0.00908\taccuracy:0.578\tval-accuracy:0.641\n",
      "epoch:    4\tloss:0.00274\taccuracy:0.754\tval-accuracy:0.623\n",
      "epoch:    5\tloss:0.00761\taccuracy:0.584\tval-accuracy:0.453\n",
      "epoch:    6\tloss:0.00281\taccuracy:0.78\tval-accuracy:0.694\n",
      "epoch:    7\tloss:0.0016\taccuracy:0.839\tval-accuracy:0.628\n",
      "epoch:    8\tloss:0.00144\taccuracy:0.86\tval-accuracy:0.726\n",
      "epoch:    9\tloss:0.00109\taccuracy:0.896\tval-accuracy:0.773\n",
      "epoch:   10\tloss:0.000985\taccuracy:0.912\tval-accuracy:0.775\n",
      "epoch:   11\tloss:0.00101\taccuracy:0.912\tval-accuracy:0.769\n",
      "epoch:   12\tloss:0.000824\taccuracy:0.935\tval-accuracy:0.761\n",
      "epoch:   13\tloss:0.000845\taccuracy:0.931\tval-accuracy:0.688\n",
      "epoch:   14\tloss:0.000819\taccuracy:0.934\tval-accuracy:0.785\n",
      "epoch:   15\tloss:0.000758\taccuracy:0.945\tval-accuracy:0.767\n",
      "epoch:   16\tloss:0.000721\taccuracy:0.946\tval-accuracy:0.81\n",
      "epoch:   17\tloss:0.000653\taccuracy:0.956\tval-accuracy:0.813\n",
      "epoch:   18\tloss:0.000697\taccuracy:0.949\tval-accuracy:0.809\n",
      "epoch:   19\tloss:0.000653\taccuracy:0.956\tval-accuracy:0.819\n",
      "epoch:   20\tloss:0.000632\taccuracy:0.96\tval-accuracy:0.822\n",
      "epoch:   21\tloss:0.000568\taccuracy:0.97\tval-accuracy:0.815\n",
      "epoch:   22\tloss:0.000569\taccuracy:0.97\tval-accuracy:0.82\n",
      "epoch:   23\tloss:0.000549\taccuracy:0.97\tval-accuracy:0.814\n",
      "epoch:   24\tloss:0.000549\taccuracy:0.97\tval-accuracy:0.828\n",
      "epoch:   25\tloss:0.000533\taccuracy:0.972\tval-accuracy:0.825\n",
      "epoch:   26\tloss:0.000517\taccuracy:0.974\tval-accuracy:0.825\n",
      "epoch:   27\tloss:0.000517\taccuracy:0.972\tval-accuracy:0.815\n",
      "epoch:   28\tloss:0.000481\taccuracy:0.976\tval-accuracy:0.828\n",
      "epoch:   29\tloss:0.000502\taccuracy:0.974\tval-accuracy:0.831\n",
      "epoch:   30\tloss:0.000482\taccuracy:0.977\tval-accuracy:0.83\n",
      "epoch:   31\tloss:0.000467\taccuracy:0.977\tval-accuracy:0.832\n",
      "epoch:   32\tloss:0.000448\taccuracy:0.981\tval-accuracy:0.826\n",
      "epoch:   33\tloss:0.000434\taccuracy:0.981\tval-accuracy:0.824\n",
      "epoch:   34\tloss:0.000438\taccuracy:0.981\tval-accuracy:0.807\n",
      "epoch:   35\tloss:0.000428\taccuracy:0.98\tval-accuracy:0.836\n",
      "epoch:   36\tloss:0.000422\taccuracy:0.983\tval-accuracy:0.837\n",
      "epoch:   37\tloss:0.000415\taccuracy:0.982\tval-accuracy:0.824\n",
      "epoch:   38\tloss:0.000401\taccuracy:0.985\tval-accuracy:0.839\n",
      "epoch:   39\tloss:0.0004\taccuracy:0.984\tval-accuracy:0.824\n",
      "epoch:   40\tloss:0.000389\taccuracy:0.985\tval-accuracy:0.835\n",
      "epoch:   41\tloss:0.000383\taccuracy:0.985\tval-accuracy:0.838\n",
      "epoch:   42\tloss:0.000378\taccuracy:0.985\tval-accuracy:0.838\n",
      "epoch:   43\tloss:0.000377\taccuracy:0.986\tval-accuracy:0.826\n",
      "epoch:   44\tloss:0.000366\taccuracy:0.986\tval-accuracy:0.835\n",
      "epoch:   45\tloss:0.000356\taccuracy:0.987\tval-accuracy:0.839\n",
      "epoch:   46\tloss:0.00036\taccuracy:0.986\tval-accuracy:0.842\n",
      "epoch:   47\tloss:0.000348\taccuracy:0.988\tval-accuracy:0.84\n",
      "epoch:   48\tloss:0.000347\taccuracy:0.988\tval-accuracy:0.841\n",
      "epoch:   49\tloss:0.000349\taccuracy:0.987\tval-accuracy:0.842\n",
      "epoch:   50\tloss:0.000344\taccuracy:0.987\tval-accuracy:0.838\n",
      "epoch:   51\tloss:0.000341\taccuracy:0.988\tval-accuracy:0.842\n",
      "epoch:   52\tloss:0.000329\taccuracy:0.989\tval-accuracy:0.843\n",
      "epoch:   53\tloss:0.000323\taccuracy:0.989\tval-accuracy:0.84\n",
      "epoch:   54\tloss:0.000323\taccuracy:0.99\tval-accuracy:0.843\n",
      "epoch:   55\tloss:0.000319\taccuracy:0.99\tval-accuracy:0.841\n",
      "epoch:   56\tloss:0.000314\taccuracy:0.991\tval-accuracy:0.835\n",
      "epoch:   57\tloss:0.000307\taccuracy:0.991\tval-accuracy:0.84\n",
      "epoch:   58\tloss:0.000304\taccuracy:0.99\tval-accuracy:0.833\n",
      "epoch:   59\tloss:0.000303\taccuracy:0.991\tval-accuracy:0.845\n",
      "epoch:   60\tloss:0.0003\taccuracy:0.991\tval-accuracy:0.835\n",
      "epoch:   61\tloss:0.000293\taccuracy:0.992\tval-accuracy:0.843\n",
      "epoch:   62\tloss:0.000295\taccuracy:0.99\tval-accuracy:0.841\n",
      "epoch:   63\tloss:0.00029\taccuracy:0.991\tval-accuracy:0.841\n",
      "epoch:   64\tloss:0.000281\taccuracy:0.992\tval-accuracy:0.847\n",
      "epoch:   65\tloss:0.000281\taccuracy:0.992\tval-accuracy:0.844\n",
      "epoch:   66\tloss:0.000285\taccuracy:0.992\tval-accuracy:0.844\n",
      "epoch:   67\tloss:0.000276\taccuracy:0.993\tval-accuracy:0.845\n",
      "epoch:   68\tloss:0.000277\taccuracy:0.992\tval-accuracy:0.844\n",
      "epoch:   69\tloss:0.000272\taccuracy:0.993\tval-accuracy:0.836\n",
      "epoch:   70\tloss:0.000266\taccuracy:0.993\tval-accuracy:0.843\n",
      "epoch:   71\tloss:0.000265\taccuracy:0.993\tval-accuracy:0.847\n",
      "epoch:   72\tloss:0.000262\taccuracy:0.993\tval-accuracy:0.84\n",
      "epoch:   73\tloss:0.00026\taccuracy:0.992\tval-accuracy:0.849\n",
      "epoch:   74\tloss:0.000258\taccuracy:0.993\tval-accuracy:0.844\n",
      "epoch:   75\tloss:0.000257\taccuracy:0.993\tval-accuracy:0.846\n",
      "epoch:   76\tloss:0.000253\taccuracy:0.993\tval-accuracy:0.845\n",
      "epoch:   77\tloss:0.000252\taccuracy:0.993\tval-accuracy:0.84\n",
      "epoch:   78\tloss:0.000249\taccuracy:0.994\tval-accuracy:0.842\n",
      "epoch:   79\tloss:0.000244\taccuracy:0.994\tval-accuracy:0.838\n",
      "epoch:   80\tloss:0.000239\taccuracy:0.995\tval-accuracy:0.837\n",
      "epoch:   81\tloss:0.000243\taccuracy:0.994\tval-accuracy:0.847\n",
      "epoch:   82\tloss:0.000237\taccuracy:0.995\tval-accuracy:0.844\n",
      "epoch:   83\tloss:0.000237\taccuracy:0.994\tval-accuracy:0.844\n",
      "epoch:   84\tloss:0.000238\taccuracy:0.993\tval-accuracy:0.844\n",
      "epoch:   85\tloss:0.00023\taccuracy:0.994\tval-accuracy:0.845\n",
      "epoch:   86\tloss:0.00023\taccuracy:0.994\tval-accuracy:0.848\n",
      "epoch:   87\tloss:0.00023\taccuracy:0.994\tval-accuracy:0.847\n",
      "epoch:   88\tloss:0.000225\taccuracy:0.994\tval-accuracy:0.846\n",
      "epoch:   89\tloss:0.000226\taccuracy:0.995\tval-accuracy:0.84\n",
      "epoch:   90\tloss:0.000223\taccuracy:0.994\tval-accuracy:0.848\n",
      "epoch:   91\tloss:0.000219\taccuracy:0.995\tval-accuracy:0.847\n",
      "epoch:   92\tloss:0.00022\taccuracy:0.994\tval-accuracy:0.847\n",
      "epoch:   93\tloss:0.000218\taccuracy:0.995\tval-accuracy:0.844\n",
      "epoch:   94\tloss:0.000215\taccuracy:0.995\tval-accuracy:0.847\n",
      "epoch:   95\tloss:0.000214\taccuracy:0.995\tval-accuracy:0.847\n",
      "epoch:   96\tloss:0.000214\taccuracy:0.995\tval-accuracy:0.847\n",
      "epoch:   97\tloss:0.00021\taccuracy:0.995\tval-accuracy:0.847\n",
      "epoch:   98\tloss:0.000208\taccuracy:0.995\tval-accuracy:0.846\n",
      "epoch:   99\tloss:0.000207\taccuracy:0.995\tval-accuracy:0.846\n",
      "epoch:  100\tloss:0.000208\taccuracy:0.995\tval-accuracy:0.847\n",
      "epoch:  101\tloss:0.000202\taccuracy:0.996\tval-accuracy:0.849\n",
      "epoch:  102\tloss:0.000202\taccuracy:0.995\tval-accuracy:0.845\n",
      "epoch:  103\tloss:0.000202\taccuracy:0.995\tval-accuracy:0.847\n",
      "epoch:  104\tloss:0.000199\taccuracy:0.996\tval-accuracy:0.848\n",
      "epoch:  105\tloss:0.000196\taccuracy:0.996\tval-accuracy:0.847\n",
      "epoch:  106\tloss:0.000199\taccuracy:0.995\tval-accuracy:0.844\n",
      "epoch:  107\tloss:0.000195\taccuracy:0.996\tval-accuracy:0.846\n",
      "epoch:  108\tloss:0.000193\taccuracy:0.995\tval-accuracy:0.847\n",
      "epoch:  109\tloss:0.000193\taccuracy:0.995\tval-accuracy:0.848\n",
      "epoch:  110\tloss:0.00019\taccuracy:0.995\tval-accuracy:0.849\n",
      "epoch:  111\tloss:0.00019\taccuracy:0.995\tval-accuracy:0.848\n",
      "epoch:  112\tloss:0.00019\taccuracy:0.996\tval-accuracy:0.847\n",
      "epoch:  113\tloss:0.000186\taccuracy:0.996\tval-accuracy:0.847\n",
      "epoch:  114\tloss:0.000187\taccuracy:0.995\tval-accuracy:0.848\n",
      "epoch:  115\tloss:0.000183\taccuracy:0.997\tval-accuracy:0.847\n",
      "epoch:  116\tloss:0.000184\taccuracy:0.996\tval-accuracy:0.845\n",
      "epoch:  117\tloss:0.000183\taccuracy:0.996\tval-accuracy:0.848\n",
      "epoch:  118\tloss:0.000179\taccuracy:0.997\tval-accuracy:0.847\n",
      "epoch:  119\tloss:0.00018\taccuracy:0.996\tval-accuracy:0.849\n",
      "epoch:  120\tloss:0.000179\taccuracy:0.996\tval-accuracy:0.851\n",
      "epoch:  121\tloss:0.000177\taccuracy:0.996\tval-accuracy:0.85\n",
      "epoch:  122\tloss:0.000176\taccuracy:0.997\tval-accuracy:0.85\n",
      "epoch:  123\tloss:0.000175\taccuracy:0.997\tval-accuracy:0.849\n",
      "epoch:  124\tloss:0.000174\taccuracy:0.996\tval-accuracy:0.849\n",
      "epoch:  125\tloss:0.000172\taccuracy:0.996\tval-accuracy:0.851\n",
      "epoch:  126\tloss:0.00017\taccuracy:0.997\tval-accuracy:0.848\n",
      "epoch:  127\tloss:0.00017\taccuracy:0.997\tval-accuracy:0.85\n",
      "epoch:  128\tloss:0.000171\taccuracy:0.996\tval-accuracy:0.851\n",
      "epoch:  129\tloss:0.00017\taccuracy:0.997\tval-accuracy:0.849\n",
      "epoch:  130\tloss:0.000167\taccuracy:0.997\tval-accuracy:0.85\n",
      "epoch:  131\tloss:0.000166\taccuracy:0.996\tval-accuracy:0.849\n",
      "epoch:  132\tloss:0.000166\taccuracy:0.997\tval-accuracy:0.848\n",
      "epoch:  133\tloss:0.000164\taccuracy:0.997\tval-accuracy:0.85\n",
      "epoch:  134\tloss:0.000166\taccuracy:0.997\tval-accuracy:0.849\n",
      "epoch:  135\tloss:0.000162\taccuracy:0.997\tval-accuracy:0.849\n",
      "epoch:  136\tloss:0.000162\taccuracy:0.997\tval-accuracy:0.851\n",
      "epoch:  137\tloss:0.000159\taccuracy:0.997\tval-accuracy:0.852\n",
      "epoch:  138\tloss:0.00016\taccuracy:0.997\tval-accuracy:0.848\n",
      "epoch:  139\tloss:0.000159\taccuracy:0.998\tval-accuracy:0.849\n",
      "epoch:  140\tloss:0.000157\taccuracy:0.997\tval-accuracy:0.847\n",
      "epoch:  141\tloss:0.000157\taccuracy:0.997\tval-accuracy:0.848\n",
      "epoch:  142\tloss:0.000155\taccuracy:0.997\tval-accuracy:0.849\n",
      "epoch:  143\tloss:0.000154\taccuracy:0.997\tval-accuracy:0.852\n",
      "epoch:  144\tloss:0.000154\taccuracy:0.997\tval-accuracy:0.849\n",
      "epoch:  145\tloss:0.000152\taccuracy:0.997\tval-accuracy:0.851\n",
      "epoch:  146\tloss:0.000151\taccuracy:0.998\tval-accuracy:0.85\n",
      "epoch:  147\tloss:0.000151\taccuracy:0.997\tval-accuracy:0.85\n",
      "epoch:  148\tloss:0.000152\taccuracy:0.998\tval-accuracy:0.849\n",
      "epoch:  149\tloss:0.000149\taccuracy:0.998\tval-accuracy:0.851\n",
      "epoch:  150\tloss:0.000149\taccuracy:0.998\tval-accuracy:0.851\n",
      "epoch:  151\tloss:0.00015\taccuracy:0.998\tval-accuracy:0.848\n",
      "epoch:  152\tloss:0.000147\taccuracy:0.998\tval-accuracy:0.852\n",
      "epoch:  153\tloss:0.000146\taccuracy:0.998\tval-accuracy:0.851\n",
      "epoch:  154\tloss:0.000147\taccuracy:0.997\tval-accuracy:0.851\n",
      "epoch:  155\tloss:0.000145\taccuracy:0.998\tval-accuracy:0.847\n",
      "epoch:  156\tloss:0.000146\taccuracy:0.998\tval-accuracy:0.851\n",
      "epoch:  157\tloss:0.000143\taccuracy:0.998\tval-accuracy:0.853\n",
      "epoch:  158\tloss:0.000143\taccuracy:0.998\tval-accuracy:0.849\n",
      "epoch:  159\tloss:0.000142\taccuracy:0.998\tval-accuracy:0.852\n",
      "epoch:  160\tloss:0.000141\taccuracy:0.998\tval-accuracy:0.851\n",
      "epoch:  161\tloss:0.000141\taccuracy:0.998\tval-accuracy:0.849\n",
      "epoch:  162\tloss:0.000139\taccuracy:0.998\tval-accuracy:0.851\n",
      "epoch:  163\tloss:0.000138\taccuracy:0.999\tval-accuracy:0.853\n",
      "epoch:  164\tloss:0.000139\taccuracy:0.998\tval-accuracy:0.85\n",
      "epoch:  165\tloss:0.000137\taccuracy:0.998\tval-accuracy:0.852\n",
      "epoch:  166\tloss:0.000137\taccuracy:0.998\tval-accuracy:0.854\n",
      "epoch:  167\tloss:0.000136\taccuracy:0.999\tval-accuracy:0.853\n",
      "epoch:  168\tloss:0.000135\taccuracy:0.998\tval-accuracy:0.853\n",
      "epoch:  169\tloss:0.000134\taccuracy:0.998\tval-accuracy:0.851\n",
      "epoch:  170\tloss:0.000134\taccuracy:0.998\tval-accuracy:0.851\n",
      "epoch:  171\tloss:0.000134\taccuracy:0.998\tval-accuracy:0.853\n",
      "epoch:  172\tloss:0.000133\taccuracy:0.999\tval-accuracy:0.852\n",
      "epoch:  173\tloss:0.000133\taccuracy:0.998\tval-accuracy:0.853\n",
      "epoch:  174\tloss:0.000133\taccuracy:0.998\tval-accuracy:0.851\n",
      "epoch:  175\tloss:0.000131\taccuracy:0.998\tval-accuracy:0.849\n",
      "epoch:  176\tloss:0.000131\taccuracy:0.998\tval-accuracy:0.853\n",
      "epoch:  177\tloss:0.000131\taccuracy:0.999\tval-accuracy:0.853\n",
      "epoch:  178\tloss:0.000129\taccuracy:0.999\tval-accuracy:0.853\n",
      "epoch:  179\tloss:0.000128\taccuracy:0.999\tval-accuracy:0.853\n",
      "epoch:  180\tloss:0.000128\taccuracy:0.999\tval-accuracy:0.853\n",
      "epoch:  181\tloss:0.000128\taccuracy:0.998\tval-accuracy:0.85\n",
      "epoch:  182\tloss:0.000127\taccuracy:0.999\tval-accuracy:0.853\n",
      "epoch:  183\tloss:0.000126\taccuracy:0.999\tval-accuracy:0.852\n",
      "epoch:  184\tloss:0.000126\taccuracy:0.999\tval-accuracy:0.853\n",
      "epoch:  185\tloss:0.000126\taccuracy:0.998\tval-accuracy:0.85\n",
      "epoch:  186\tloss:0.000125\taccuracy:0.999\tval-accuracy:0.852\n",
      "epoch:  187\tloss:0.000124\taccuracy:0.999\tval-accuracy:0.853\n",
      "epoch:  188\tloss:0.000123\taccuracy:0.999\tval-accuracy:0.852\n",
      "epoch:  189\tloss:0.000123\taccuracy:0.999\tval-accuracy:0.852\n",
      "epoch:  190\tloss:0.000122\taccuracy:0.999\tval-accuracy:0.852\n",
      "epoch:  191\tloss:0.000122\taccuracy:0.999\tval-accuracy:0.852\n",
      "epoch:  192\tloss:0.000121\taccuracy:0.999\tval-accuracy:0.851\n",
      "epoch:  193\tloss:0.00012\taccuracy:0.999\tval-accuracy:0.849\n",
      "epoch:  194\tloss:0.00012\taccuracy:0.999\tval-accuracy:0.85\n",
      "epoch:  195\tloss:0.00012\taccuracy:0.999\tval-accuracy:0.853\n",
      "epoch:  196\tloss:0.000119\taccuracy:0.999\tval-accuracy:0.85\n",
      "epoch:  197\tloss:0.000119\taccuracy:0.999\tval-accuracy:0.852\n",
      "epoch:  198\tloss:0.000119\taccuracy:0.999\tval-accuracy:0.852\n",
      "epoch:  199\tloss:0.000119\taccuracy:0.999\tval-accuracy:0.853\n",
      "epoch:  200\tloss:0.000117\taccuracy:0.999\tval-accuracy:0.854\n",
      "epoch:  201\tloss:0.000117\taccuracy:0.999\tval-accuracy:0.851\n",
      "epoch:  202\tloss:0.000117\taccuracy:0.999\tval-accuracy:0.853\n",
      "epoch:  203\tloss:0.000115\taccuracy:0.999\tval-accuracy:0.853\n",
      "epoch:  204\tloss:0.000115\taccuracy:0.999\tval-accuracy:0.853\n",
      "epoch:  205\tloss:0.000114\taccuracy:0.999\tval-accuracy:0.853\n",
      "epoch:  206\tloss:0.000113\taccuracy:0.999\tval-accuracy:0.853\n",
      "epoch:  207\tloss:0.000114\taccuracy:0.999\tval-accuracy:0.853\n",
      "epoch:  208\tloss:0.000113\taccuracy:0.999\tval-accuracy:0.854\n",
      "epoch:  209\tloss:0.000113\taccuracy:0.999\tval-accuracy:0.853\n",
      "epoch:  210\tloss:0.000112\taccuracy:0.999\tval-accuracy:0.853\n",
      "epoch:  211\tloss:0.000111\taccuracy:0.999\tval-accuracy:0.853\n",
      "epoch:  212\tloss:0.000112\taccuracy:0.999\tval-accuracy:0.851\n",
      "epoch:  213\tloss:0.000111\taccuracy:0.999\tval-accuracy:0.853\n",
      "epoch:  214\tloss:0.000111\taccuracy:0.999\tval-accuracy:0.85\n",
      "epoch:  215\tloss:0.000112\taccuracy:0.999\tval-accuracy:0.85\n",
      "epoch:  216\tloss:0.00011\taccuracy:0.999\tval-accuracy:0.853\n",
      "epoch:  217\tloss:0.000109\taccuracy:0.999\tval-accuracy:0.854\n",
      "epoch:  218\tloss:0.000109\taccuracy:0.999\tval-accuracy:0.854\n",
      "epoch:  219\tloss:0.000108\taccuracy:0.999\tval-accuracy:0.853\n",
      "epoch:  220\tloss:0.000109\taccuracy:0.999\tval-accuracy:0.853\n",
      "epoch:  221\tloss:0.000108\taccuracy:0.999\tval-accuracy:0.855\n",
      "epoch:  222\tloss:0.000107\taccuracy:0.999\tval-accuracy:0.853\n",
      "epoch:  223\tloss:0.000107\taccuracy:0.999\tval-accuracy:0.853\n",
      "epoch:  224\tloss:0.000106\taccuracy:0.999\tval-accuracy:0.853\n",
      "epoch:  225\tloss:0.000106\taccuracy:0.999\tval-accuracy:0.851\n",
      "epoch:  226\tloss:0.000106\taccuracy:0.999\tval-accuracy:0.853\n",
      "epoch:  227\tloss:0.000105\taccuracy:0.999\tval-accuracy:0.853\n",
      "epoch:  228\tloss:0.000104\taccuracy:0.999\tval-accuracy:0.853\n",
      "epoch:  229\tloss:0.000105\taccuracy:0.999\tval-accuracy:0.853\n",
      "epoch:  230\tloss:0.000104\taccuracy:0.999\tval-accuracy:0.853\n",
      "epoch:  231\tloss:0.000104\taccuracy:0.999\tval-accuracy:0.853\n",
      "epoch:  232\tloss:0.000103\taccuracy:0.999\tval-accuracy:0.853\n",
      "epoch:  233\tloss:0.000103\taccuracy:0.999\tval-accuracy:0.851\n",
      "epoch:  234\tloss:0.000103\taccuracy:0.999\tval-accuracy:0.853\n",
      "epoch:  235\tloss:0.000102\taccuracy:0.999\tval-accuracy:0.855\n",
      "epoch:  236\tloss:0.000102\taccuracy:0.999\tval-accuracy:0.853\n"
     ]
    },
    {
     "output_type": "error",
     "ename": "KeyboardInterrupt",
     "evalue": "",
     "traceback": [
      "\u001b[0;31m---------------------------------------------------------------------------\u001b[0m",
      "\u001b[0;31mKeyboardInterrupt\u001b[0m                         Traceback (most recent call last)",
      "\u001b[0;32m<ipython-input-3-0e8184935a5c>\u001b[0m in \u001b[0;36m<module>\u001b[0;34m\u001b[0m\n\u001b[0;32m----> 1\u001b[0;31m \u001b[0mutils\u001b[0m\u001b[0;34m.\u001b[0m\u001b[0mtrain\u001b[0m\u001b[0;34m(\u001b[0m\u001b[0mnet\u001b[0m\u001b[0;34m,\u001b[0m \u001b[0mn_epochs\u001b[0m\u001b[0;34m,\u001b[0m \u001b[0mtrain_iter\u001b[0m\u001b[0;34m,\u001b[0m \u001b[0mloss_function\u001b[0m\u001b[0;34m,\u001b[0m \u001b[0moptimizer\u001b[0m\u001b[0;34m,\u001b[0m \u001b[0mvalid_iter\u001b[0m\u001b[0;34m)\u001b[0m\u001b[0;34m\u001b[0m\u001b[0;34m\u001b[0m\u001b[0m\n\u001b[0m",
      "\u001b[0;32m~/Projects/hand-pose-classification/pytorch/utils.py\u001b[0m in \u001b[0;36mtrain\u001b[0;34m(net, n_epochs, train_iter, loss_function, optimizer, valid_iter)\u001b[0m\n\u001b[1;32m    173\u001b[0m         \u001b[0mtrain_metric\u001b[0m\u001b[0;34m.\u001b[0m\u001b[0mreset\u001b[0m\u001b[0;34m(\u001b[0m\u001b[0;34m)\u001b[0m\u001b[0;34m\u001b[0m\u001b[0;34m\u001b[0m\u001b[0m\n\u001b[1;32m    174\u001b[0m \u001b[0;34m\u001b[0m\u001b[0m\n\u001b[0;32m--> 175\u001b[0;31m         \u001b[0;32mfor\u001b[0m \u001b[0mbatch\u001b[0m\u001b[0;34m,\u001b[0m \u001b[0;34m(\u001b[0m\u001b[0mX\u001b[0m\u001b[0;34m,\u001b[0m \u001b[0my\u001b[0m\u001b[0;34m)\u001b[0m \u001b[0;32min\u001b[0m \u001b[0menumerate\u001b[0m\u001b[0;34m(\u001b[0m\u001b[0mtrain_iter\u001b[0m\u001b[0;34m)\u001b[0m\u001b[0;34m:\u001b[0m  \u001b[0;31m# cycle on mini-batches\u001b[0m\u001b[0;34m\u001b[0m\u001b[0;34m\u001b[0m\u001b[0m\n\u001b[0m\u001b[1;32m    176\u001b[0m \u001b[0;34m\u001b[0m\u001b[0m\n\u001b[1;32m    177\u001b[0m             \u001b[0;31m# move data to GPU if available\u001b[0m\u001b[0;34m\u001b[0m\u001b[0;34m\u001b[0m\u001b[0;34m\u001b[0m\u001b[0m\n",
      "\u001b[0;32m/Library/anaconda3/envs/d2l/lib/python3.8/site-packages/torch/utils/data/dataloader.py\u001b[0m in \u001b[0;36m__next__\u001b[0;34m(self)\u001b[0m\n\u001b[1;32m    433\u001b[0m         \u001b[0;32mif\u001b[0m \u001b[0mself\u001b[0m\u001b[0;34m.\u001b[0m\u001b[0m_sampler_iter\u001b[0m \u001b[0;32mis\u001b[0m \u001b[0;32mNone\u001b[0m\u001b[0;34m:\u001b[0m\u001b[0;34m\u001b[0m\u001b[0;34m\u001b[0m\u001b[0m\n\u001b[1;32m    434\u001b[0m             \u001b[0mself\u001b[0m\u001b[0;34m.\u001b[0m\u001b[0m_reset\u001b[0m\u001b[0;34m(\u001b[0m\u001b[0;34m)\u001b[0m\u001b[0;34m\u001b[0m\u001b[0;34m\u001b[0m\u001b[0m\n\u001b[0;32m--> 435\u001b[0;31m         \u001b[0mdata\u001b[0m \u001b[0;34m=\u001b[0m \u001b[0mself\u001b[0m\u001b[0;34m.\u001b[0m\u001b[0m_next_data\u001b[0m\u001b[0;34m(\u001b[0m\u001b[0;34m)\u001b[0m\u001b[0;34m\u001b[0m\u001b[0;34m\u001b[0m\u001b[0m\n\u001b[0m\u001b[1;32m    436\u001b[0m         \u001b[0mself\u001b[0m\u001b[0;34m.\u001b[0m\u001b[0m_num_yielded\u001b[0m \u001b[0;34m+=\u001b[0m \u001b[0;36m1\u001b[0m\u001b[0;34m\u001b[0m\u001b[0;34m\u001b[0m\u001b[0m\n\u001b[1;32m    437\u001b[0m         \u001b[0;32mif\u001b[0m \u001b[0mself\u001b[0m\u001b[0;34m.\u001b[0m\u001b[0m_dataset_kind\u001b[0m \u001b[0;34m==\u001b[0m \u001b[0m_DatasetKind\u001b[0m\u001b[0;34m.\u001b[0m\u001b[0mIterable\u001b[0m \u001b[0;32mand\u001b[0m\u001b[0;31m \u001b[0m\u001b[0;31m\\\u001b[0m\u001b[0;34m\u001b[0m\u001b[0;34m\u001b[0m\u001b[0m\n",
      "\u001b[0;32m/Library/anaconda3/envs/d2l/lib/python3.8/site-packages/torch/utils/data/dataloader.py\u001b[0m in \u001b[0;36m_next_data\u001b[0;34m(self)\u001b[0m\n\u001b[1;32m    473\u001b[0m     \u001b[0;32mdef\u001b[0m \u001b[0m_next_data\u001b[0m\u001b[0;34m(\u001b[0m\u001b[0mself\u001b[0m\u001b[0;34m)\u001b[0m\u001b[0;34m:\u001b[0m\u001b[0;34m\u001b[0m\u001b[0;34m\u001b[0m\u001b[0m\n\u001b[1;32m    474\u001b[0m         \u001b[0mindex\u001b[0m \u001b[0;34m=\u001b[0m \u001b[0mself\u001b[0m\u001b[0;34m.\u001b[0m\u001b[0m_next_index\u001b[0m\u001b[0;34m(\u001b[0m\u001b[0;34m)\u001b[0m  \u001b[0;31m# may raise StopIteration\u001b[0m\u001b[0;34m\u001b[0m\u001b[0;34m\u001b[0m\u001b[0m\n\u001b[0;32m--> 475\u001b[0;31m         \u001b[0mdata\u001b[0m \u001b[0;34m=\u001b[0m \u001b[0mself\u001b[0m\u001b[0;34m.\u001b[0m\u001b[0m_dataset_fetcher\u001b[0m\u001b[0;34m.\u001b[0m\u001b[0mfetch\u001b[0m\u001b[0;34m(\u001b[0m\u001b[0mindex\u001b[0m\u001b[0;34m)\u001b[0m  \u001b[0;31m# may raise StopIteration\u001b[0m\u001b[0;34m\u001b[0m\u001b[0;34m\u001b[0m\u001b[0m\n\u001b[0m\u001b[1;32m    476\u001b[0m         \u001b[0;32mif\u001b[0m \u001b[0mself\u001b[0m\u001b[0;34m.\u001b[0m\u001b[0m_pin_memory\u001b[0m\u001b[0;34m:\u001b[0m\u001b[0;34m\u001b[0m\u001b[0;34m\u001b[0m\u001b[0m\n\u001b[1;32m    477\u001b[0m             \u001b[0mdata\u001b[0m \u001b[0;34m=\u001b[0m \u001b[0m_utils\u001b[0m\u001b[0;34m.\u001b[0m\u001b[0mpin_memory\u001b[0m\u001b[0;34m.\u001b[0m\u001b[0mpin_memory\u001b[0m\u001b[0;34m(\u001b[0m\u001b[0mdata\u001b[0m\u001b[0;34m)\u001b[0m\u001b[0;34m\u001b[0m\u001b[0;34m\u001b[0m\u001b[0m\n",
      "\u001b[0;32m/Library/anaconda3/envs/d2l/lib/python3.8/site-packages/torch/utils/data/_utils/fetch.py\u001b[0m in \u001b[0;36mfetch\u001b[0;34m(self, possibly_batched_index)\u001b[0m\n\u001b[1;32m     42\u001b[0m     \u001b[0;32mdef\u001b[0m \u001b[0mfetch\u001b[0m\u001b[0;34m(\u001b[0m\u001b[0mself\u001b[0m\u001b[0;34m,\u001b[0m \u001b[0mpossibly_batched_index\u001b[0m\u001b[0;34m)\u001b[0m\u001b[0;34m:\u001b[0m\u001b[0;34m\u001b[0m\u001b[0;34m\u001b[0m\u001b[0m\n\u001b[1;32m     43\u001b[0m         \u001b[0;32mif\u001b[0m \u001b[0mself\u001b[0m\u001b[0;34m.\u001b[0m\u001b[0mauto_collation\u001b[0m\u001b[0;34m:\u001b[0m\u001b[0;34m\u001b[0m\u001b[0;34m\u001b[0m\u001b[0m\n\u001b[0;32m---> 44\u001b[0;31m             \u001b[0mdata\u001b[0m \u001b[0;34m=\u001b[0m \u001b[0;34m[\u001b[0m\u001b[0mself\u001b[0m\u001b[0;34m.\u001b[0m\u001b[0mdataset\u001b[0m\u001b[0;34m[\u001b[0m\u001b[0midx\u001b[0m\u001b[0;34m]\u001b[0m \u001b[0;32mfor\u001b[0m \u001b[0midx\u001b[0m \u001b[0;32min\u001b[0m \u001b[0mpossibly_batched_index\u001b[0m\u001b[0;34m]\u001b[0m\u001b[0;34m\u001b[0m\u001b[0;34m\u001b[0m\u001b[0m\n\u001b[0m\u001b[1;32m     45\u001b[0m         \u001b[0;32melse\u001b[0m\u001b[0;34m:\u001b[0m\u001b[0;34m\u001b[0m\u001b[0;34m\u001b[0m\u001b[0m\n\u001b[1;32m     46\u001b[0m             \u001b[0mdata\u001b[0m \u001b[0;34m=\u001b[0m \u001b[0mself\u001b[0m\u001b[0;34m.\u001b[0m\u001b[0mdataset\u001b[0m\u001b[0;34m[\u001b[0m\u001b[0mpossibly_batched_index\u001b[0m\u001b[0;34m]\u001b[0m\u001b[0;34m\u001b[0m\u001b[0;34m\u001b[0m\u001b[0m\n",
      "\u001b[0;32m/Library/anaconda3/envs/d2l/lib/python3.8/site-packages/torch/utils/data/_utils/fetch.py\u001b[0m in \u001b[0;36m<listcomp>\u001b[0;34m(.0)\u001b[0m\n\u001b[1;32m     42\u001b[0m     \u001b[0;32mdef\u001b[0m \u001b[0mfetch\u001b[0m\u001b[0;34m(\u001b[0m\u001b[0mself\u001b[0m\u001b[0;34m,\u001b[0m \u001b[0mpossibly_batched_index\u001b[0m\u001b[0;34m)\u001b[0m\u001b[0;34m:\u001b[0m\u001b[0;34m\u001b[0m\u001b[0;34m\u001b[0m\u001b[0m\n\u001b[1;32m     43\u001b[0m         \u001b[0;32mif\u001b[0m \u001b[0mself\u001b[0m\u001b[0;34m.\u001b[0m\u001b[0mauto_collation\u001b[0m\u001b[0;34m:\u001b[0m\u001b[0;34m\u001b[0m\u001b[0;34m\u001b[0m\u001b[0m\n\u001b[0;32m---> 44\u001b[0;31m             \u001b[0mdata\u001b[0m \u001b[0;34m=\u001b[0m \u001b[0;34m[\u001b[0m\u001b[0mself\u001b[0m\u001b[0;34m.\u001b[0m\u001b[0mdataset\u001b[0m\u001b[0;34m[\u001b[0m\u001b[0midx\u001b[0m\u001b[0;34m]\u001b[0m \u001b[0;32mfor\u001b[0m \u001b[0midx\u001b[0m \u001b[0;32min\u001b[0m \u001b[0mpossibly_batched_index\u001b[0m\u001b[0;34m]\u001b[0m\u001b[0;34m\u001b[0m\u001b[0;34m\u001b[0m\u001b[0m\n\u001b[0m\u001b[1;32m     45\u001b[0m         \u001b[0;32melse\u001b[0m\u001b[0;34m:\u001b[0m\u001b[0;34m\u001b[0m\u001b[0;34m\u001b[0m\u001b[0m\n\u001b[1;32m     46\u001b[0m             \u001b[0mdata\u001b[0m \u001b[0;34m=\u001b[0m \u001b[0mself\u001b[0m\u001b[0;34m.\u001b[0m\u001b[0mdataset\u001b[0m\u001b[0;34m[\u001b[0m\u001b[0mpossibly_batched_index\u001b[0m\u001b[0;34m]\u001b[0m\u001b[0;34m\u001b[0m\u001b[0;34m\u001b[0m\u001b[0m\n",
      "\u001b[0;32m~/Projects/hand-pose-classification/pytorch/utils.py\u001b[0m in \u001b[0;36m__getitem__\u001b[0;34m(self, index)\u001b[0m\n\u001b[1;32m     32\u001b[0m \u001b[0;34m\u001b[0m\u001b[0m\n\u001b[1;32m     33\u001b[0m     \u001b[0;32mdef\u001b[0m \u001b[0m__getitem__\u001b[0m\u001b[0;34m(\u001b[0m\u001b[0mself\u001b[0m\u001b[0;34m,\u001b[0m \u001b[0mindex\u001b[0m\u001b[0;34m)\u001b[0m\u001b[0;34m:\u001b[0m\u001b[0;34m\u001b[0m\u001b[0;34m\u001b[0m\u001b[0m\n\u001b[0;32m---> 34\u001b[0;31m         \u001b[0;32mreturn\u001b[0m \u001b[0mself\u001b[0m\u001b[0;34m.\u001b[0m\u001b[0mtransforms\u001b[0m\u001b[0;34m(\u001b[0m\u001b[0mself\u001b[0m\u001b[0;34m.\u001b[0m\u001b[0mfeatures\u001b[0m\u001b[0;34m[\u001b[0m\u001b[0;34m:\u001b[0m\u001b[0;34m,\u001b[0m\u001b[0;34m:\u001b[0m\u001b[0;34m,\u001b[0m\u001b[0;34m:\u001b[0m\u001b[0;34m,\u001b[0m\u001b[0mindex\u001b[0m\u001b[0;34m]\u001b[0m\u001b[0;34m)\u001b[0m\u001b[0;34m,\u001b[0m \u001b[0mtorch\u001b[0m\u001b[0;34m.\u001b[0m\u001b[0mfrom_numpy\u001b[0m\u001b[0;34m(\u001b[0m\u001b[0mself\u001b[0m\u001b[0;34m.\u001b[0m\u001b[0mlabels\u001b[0m\u001b[0;34m)\u001b[0m\u001b[0;34m[\u001b[0m\u001b[0mindex\u001b[0m\u001b[0;34m]\u001b[0m\u001b[0;34m\u001b[0m\u001b[0;34m\u001b[0m\u001b[0m\n\u001b[0m\u001b[1;32m     35\u001b[0m \u001b[0;34m\u001b[0m\u001b[0m\n\u001b[1;32m     36\u001b[0m     \u001b[0;32mdef\u001b[0m \u001b[0m__repr__\u001b[0m\u001b[0;34m(\u001b[0m\u001b[0mself\u001b[0m\u001b[0;34m)\u001b[0m\u001b[0;34m:\u001b[0m\u001b[0;34m\u001b[0m\u001b[0;34m\u001b[0m\u001b[0m\n",
      "\u001b[0;31mKeyboardInterrupt\u001b[0m: "
     ]
    }
   ],
   "source": [
    "utils.train(net, n_epochs, train_iter, loss_function, optimizer, valid_iter)"
   ]
  },
  {
   "source": [
    "## LeNet-5"
   ],
   "cell_type": "markdown",
   "metadata": {}
  },
  {
   "cell_type": "code",
   "execution_count": 6,
   "metadata": {},
   "outputs": [
    {
     "output_type": "stream",
     "name": "stdout",
     "text": [
      "Conv2d output shape: \t torch.Size([1, 6, 28, 28])\nSigmoid output shape: \t torch.Size([1, 6, 28, 28])\nAvgPool2d output shape: \t torch.Size([1, 6, 14, 14])\nConv2d output shape: \t torch.Size([1, 16, 10, 10])\nSigmoid output shape: \t torch.Size([1, 16, 10, 10])\nAvgPool2d output shape: \t torch.Size([1, 16, 5, 5])\nFlatten output shape: \t torch.Size([1, 400])\nLinear output shape: \t torch.Size([1, 120])\nSigmoid output shape: \t torch.Size([1, 120])\nLinear output shape: \t torch.Size([1, 84])\nSigmoid output shape: \t torch.Size([1, 84])\nLinear output shape: \t torch.Size([1, 3])\n"
     ]
    },
    {
     "output_type": "execute_result",
     "data": {
      "text/plain": []
     },
     "metadata": {},
     "execution_count": 6
    }
   ],
   "source": [
    "net = utils.LeNet()\n",
    "net"
   ]
  },
  {
   "cell_type": "code",
   "execution_count": 7,
   "metadata": {},
   "outputs": [
    {
     "output_type": "stream",
     "name": "stdout",
     "text": [
      "Training on device: cuda:0\n",
      "epoch:    0\tloss:0.00446\taccuracy:0.333\tval-accuracy:0.333\n",
      "epoch:    1\tloss:0.00446\taccuracy:0.333\tval-accuracy:0.333\n",
      "epoch:    2\tloss:0.00446\taccuracy:0.333\tval-accuracy:0.333\n",
      "epoch:    3\tloss:0.00446\taccuracy:0.333\tval-accuracy:0.333\n",
      "epoch:    4\tloss:0.00446\taccuracy:0.333\tval-accuracy:0.333\n",
      "epoch:    5\tloss:0.00446\taccuracy:0.333\tval-accuracy:0.333\n",
      "epoch:    6\tloss:0.00446\taccuracy:0.333\tval-accuracy:0.333\n",
      "epoch:    7\tloss:0.00446\taccuracy:0.333\tval-accuracy:0.333\n",
      "epoch:    8\tloss:0.00446\taccuracy:0.333\tval-accuracy:0.333\n",
      "epoch:    9\tloss:0.00446\taccuracy:0.333\tval-accuracy:0.333\n",
      "epoch:   10\tloss:0.00446\taccuracy:0.333\tval-accuracy:0.333\n",
      "epoch:   11\tloss:0.00446\taccuracy:0.333\tval-accuracy:0.333\n",
      "epoch:   12\tloss:0.00446\taccuracy:0.333\tval-accuracy:0.333\n",
      "epoch:   13\tloss:0.00446\taccuracy:0.333\tval-accuracy:0.333\n",
      "epoch:   14\tloss:0.00446\taccuracy:0.333\tval-accuracy:0.333\n",
      "epoch:   15\tloss:0.00446\taccuracy:0.333\tval-accuracy:0.333\n",
      "epoch:   16\tloss:0.00446\taccuracy:0.333\tval-accuracy:0.333\n",
      "epoch:   17\tloss:0.00446\taccuracy:0.333\tval-accuracy:0.333\n",
      "epoch:   18\tloss:0.00446\taccuracy:0.333\tval-accuracy:0.333\n",
      "epoch:   19\tloss:0.00446\taccuracy:0.333\tval-accuracy:0.333\n",
      "epoch:   20\tloss:0.00446\taccuracy:0.333\tval-accuracy:0.333\n",
      "epoch:   21\tloss:0.00446\taccuracy:0.333\tval-accuracy:0.333\n",
      "epoch:   22\tloss:0.00446\taccuracy:0.333\tval-accuracy:0.333\n",
      "epoch:   23\tloss:0.00446\taccuracy:0.333\tval-accuracy:0.333\n",
      "epoch:   24\tloss:0.00446\taccuracy:0.333\tval-accuracy:0.333\n",
      "epoch:   25\tloss:0.00446\taccuracy:0.333\tval-accuracy:0.333\n",
      "epoch:   26\tloss:0.00446\taccuracy:0.333\tval-accuracy:0.333\n",
      "epoch:   27\tloss:0.00446\taccuracy:0.333\tval-accuracy:0.333\n",
      "epoch:   28\tloss:0.00446\taccuracy:0.333\tval-accuracy:0.333\n",
      "epoch:   29\tloss:0.00446\taccuracy:0.333\tval-accuracy:0.333\n",
      "epoch:   30\tloss:0.00446\taccuracy:0.333\tval-accuracy:0.333\n",
      "epoch:   31\tloss:0.00446\taccuracy:0.333\tval-accuracy:0.333\n",
      "epoch:   32\tloss:0.00446\taccuracy:0.333\tval-accuracy:0.333\n",
      "epoch:   33\tloss:0.00446\taccuracy:0.333\tval-accuracy:0.333\n",
      "epoch:   34\tloss:0.00446\taccuracy:0.333\tval-accuracy:0.333\n",
      "epoch:   35\tloss:0.00446\taccuracy:0.333\tval-accuracy:0.333\n",
      "epoch:   36\tloss:0.00446\taccuracy:0.333\tval-accuracy:0.333\n",
      "epoch:   37\tloss:0.00446\taccuracy:0.333\tval-accuracy:0.333\n",
      "epoch:   38\tloss:0.00446\taccuracy:0.333\tval-accuracy:0.333\n",
      "epoch:   39\tloss:0.00446\taccuracy:0.333\tval-accuracy:0.333\n",
      "epoch:   40\tloss:0.00446\taccuracy:0.333\tval-accuracy:0.333\n",
      "epoch:   41\tloss:0.00446\taccuracy:0.333\tval-accuracy:0.333\n",
      "epoch:   42\tloss:0.00446\taccuracy:0.333\tval-accuracy:0.333\n",
      "epoch:   43\tloss:0.00446\taccuracy:0.333\tval-accuracy:0.333\n",
      "epoch:   44\tloss:0.00446\taccuracy:0.333\tval-accuracy:0.333\n",
      "epoch:   45\tloss:0.00446\taccuracy:0.333\tval-accuracy:0.333\n",
      "epoch:   46\tloss:0.00446\taccuracy:0.333\tval-accuracy:0.333\n",
      "epoch:   47\tloss:0.00446\taccuracy:0.333\tval-accuracy:0.333\n",
      "epoch:   48\tloss:0.00446\taccuracy:0.333\tval-accuracy:0.333\n",
      "epoch:   49\tloss:0.00446\taccuracy:0.333\tval-accuracy:0.333\n",
      "epoch:   50\tloss:0.00446\taccuracy:0.333\tval-accuracy:0.333\n",
      "epoch:   51\tloss:0.00446\taccuracy:0.333\tval-accuracy:0.333\n",
      "epoch:   52\tloss:0.00446\taccuracy:0.333\tval-accuracy:0.333\n",
      "epoch:   53\tloss:0.00446\taccuracy:0.333\tval-accuracy:0.333\n",
      "epoch:   54\tloss:0.00446\taccuracy:0.333\tval-accuracy:0.333\n",
      "epoch:   55\tloss:0.00446\taccuracy:0.333\tval-accuracy:0.333\n",
      "epoch:   56\tloss:0.00446\taccuracy:0.333\tval-accuracy:0.333\n",
      "epoch:   57\tloss:0.00446\taccuracy:0.333\tval-accuracy:0.333\n",
      "epoch:   58\tloss:0.00446\taccuracy:0.333\tval-accuracy:0.333\n",
      "epoch:   59\tloss:0.00446\taccuracy:0.333\tval-accuracy:0.333\n",
      "epoch:   60\tloss:0.00446\taccuracy:0.333\tval-accuracy:0.333\n",
      "epoch:   61\tloss:0.00446\taccuracy:0.333\tval-accuracy:0.333\n",
      "epoch:   62\tloss:0.00446\taccuracy:0.333\tval-accuracy:0.333\n",
      "epoch:   63\tloss:0.00446\taccuracy:0.333\tval-accuracy:0.333\n",
      "epoch:   64\tloss:0.00446\taccuracy:0.333\tval-accuracy:0.333\n",
      "epoch:   65\tloss:0.00446\taccuracy:0.333\tval-accuracy:0.333\n",
      "epoch:   66\tloss:0.00446\taccuracy:0.333\tval-accuracy:0.333\n",
      "epoch:   67\tloss:0.00446\taccuracy:0.333\tval-accuracy:0.333\n",
      "epoch:   68\tloss:0.00446\taccuracy:0.333\tval-accuracy:0.333\n",
      "epoch:   69\tloss:0.00446\taccuracy:0.333\tval-accuracy:0.333\n",
      "epoch:   70\tloss:0.00446\taccuracy:0.333\tval-accuracy:0.333\n",
      "epoch:   71\tloss:0.00446\taccuracy:0.333\tval-accuracy:0.333\n",
      "epoch:   72\tloss:0.00446\taccuracy:0.333\tval-accuracy:0.333\n",
      "epoch:   73\tloss:0.00446\taccuracy:0.333\tval-accuracy:0.333\n",
      "epoch:   74\tloss:0.00446\taccuracy:0.333\tval-accuracy:0.333\n",
      "epoch:   75\tloss:0.00446\taccuracy:0.333\tval-accuracy:0.333\n",
      "epoch:   76\tloss:0.00446\taccuracy:0.333\tval-accuracy:0.333\n",
      "epoch:   77\tloss:0.00446\taccuracy:0.333\tval-accuracy:0.333\n",
      "epoch:   78\tloss:0.00446\taccuracy:0.333\tval-accuracy:0.333\n",
      "epoch:   79\tloss:0.00446\taccuracy:0.333\tval-accuracy:0.333\n",
      "epoch:   80\tloss:0.00446\taccuracy:0.333\tval-accuracy:0.333\n",
      "epoch:   81\tloss:0.00446\taccuracy:0.333\tval-accuracy:0.333\n",
      "epoch:   82\tloss:0.00446\taccuracy:0.333\tval-accuracy:0.333\n",
      "epoch:   83\tloss:0.00446\taccuracy:0.333\tval-accuracy:0.333\n",
      "epoch:   84\tloss:0.00446\taccuracy:0.333\tval-accuracy:0.333\n",
      "epoch:   85\tloss:0.00446\taccuracy:0.333\tval-accuracy:0.333\n",
      "epoch:   86\tloss:0.00446\taccuracy:0.333\tval-accuracy:0.333\n",
      "epoch:   87\tloss:0.00446\taccuracy:0.333\tval-accuracy:0.333\n",
      "epoch:   88\tloss:0.00446\taccuracy:0.333\tval-accuracy:0.333\n",
      "epoch:   89\tloss:0.00446\taccuracy:0.333\tval-accuracy:0.333\n",
      "epoch:   90\tloss:0.00446\taccuracy:0.333\tval-accuracy:0.333\n",
      "epoch:   91\tloss:0.00446\taccuracy:0.333\tval-accuracy:0.333\n",
      "epoch:   92\tloss:0.00446\taccuracy:0.333\tval-accuracy:0.333\n",
      "epoch:   93\tloss:0.00446\taccuracy:0.333\tval-accuracy:0.333\n",
      "epoch:   94\tloss:0.00446\taccuracy:0.333\tval-accuracy:0.333\n",
      "epoch:   95\tloss:0.00446\taccuracy:0.333\tval-accuracy:0.333\n",
      "epoch:   96\tloss:0.00446\taccuracy:0.333\tval-accuracy:0.333\n",
      "epoch:   97\tloss:0.00446\taccuracy:0.333\tval-accuracy:0.333\n",
      "epoch:   98\tloss:0.00446\taccuracy:0.333\tval-accuracy:0.333\n",
      "epoch:   99\tloss:0.00446\taccuracy:0.333\tval-accuracy:0.333\n"
     ]
    }
   ],
   "source": [
    "utils.train(net, n_epochs, train_iter, loss_function, optimizer, valid_iter)"
   ]
  },
  {
   "source": [
    "# Test on test set"
   ],
   "cell_type": "markdown",
   "metadata": {}
  },
  {
   "cell_type": "code",
   "execution_count": 6,
   "metadata": {},
   "outputs": [
    {
     "output_type": "stream",
     "name": "stdout",
     "text": [
      "\nSample: 4\nLabel: fist\n"
     ]
    },
    {
     "output_type": "display_data",
     "data": {
      "text/plain": "<Figure size 720x2880 with 4 Axes>",
      "image/svg+xml": "<?xml version=\"1.0\" encoding=\"utf-8\" standalone=\"no\"?>\r\n<!DOCTYPE svg PUBLIC \"-//W3C//DTD SVG 1.1//EN\"\r\n  \"http://www.w3.org/Graphics/SVG/1.1/DTD/svg11.dtd\">\r\n<!-- Created with matplotlib (https://matplotlib.org/) -->\r\n<svg height=\"150.822473pt\" version=\"1.1\" viewBox=\"0 0 572.4 150.822473\" width=\"572.4pt\" xmlns=\"http://www.w3.org/2000/svg\" xmlns:xlink=\"http://www.w3.org/1999/xlink\">\r\n <metadata>\r\n  <rdf:RDF xmlns:cc=\"http://creativecommons.org/ns#\" xmlns:dc=\"http://purl.org/dc/elements/1.1/\" xmlns:rdf=\"http://www.w3.org/1999/02/22-rdf-syntax-ns#\">\r\n   <cc:Work>\r\n    <dc:type rdf:resource=\"http://purl.org/dc/dcmitype/StillImage\"/>\r\n    <dc:date>2020-12-29T23:16:19.634585</dc:date>\r\n    <dc:format>image/svg+xml</dc:format>\r\n    <dc:creator>\r\n     <cc:Agent>\r\n      <dc:title>Matplotlib v3.3.2, https://matplotlib.org/</dc:title>\r\n     </cc:Agent>\r\n    </dc:creator>\r\n   </cc:Work>\r\n  </rdf:RDF>\r\n </metadata>\r\n <defs>\r\n  <style type=\"text/css\">*{stroke-linecap:butt;stroke-linejoin:round;}</style>\r\n </defs>\r\n <g id=\"figure_1\">\r\n  <g id=\"patch_1\">\r\n   <path d=\"M 0 150.822473 \r\nL 572.4 150.822473 \r\nL 572.4 0 \r\nL 0 0 \r\nz\r\n\" style=\"fill:none;\"/>\r\n  </g>\r\n  <g id=\"axes_1\">\r\n   <g clip-path=\"url(#pbd633eac15)\">\r\n    <image height=\"122\" id=\"imagec291309f29\" transform=\"scale(1 -1)translate(0 -122)\" width=\"122\" x=\"7.2\" xlink:href=\"data:image/png;base64,\r\niVBORw0KGgoAAAANSUhEUgAAAHoAAAB6CAYAAABwWUfkAAAKmElEQVR4nO1dXYhdVxVe59xzZ+7cmUxm8tf8kTQxoyamNppoKbEaG0HaUlGoBSXgg60g+OKjCL6IgoJ/oCCCjSB9CG1oRNQHKRVbbOyPYmybpjEhaTqTNM3vTGbm3nvmnuNDXvJ9a5FzGqzarPW9rXv3Omffs+7mW2ettddOfnb4E6Vcg7zMpAp9SUDOy4Ya0xC4rNIpyrTyPp2iqT7rFji/vuB1Fgp93fliAOS8wPmmSaF0/jK5AeSVPx4EuXHwFaWTZNXP7n+F6qcduCkQhnaCMLQTZGmCXNqUhUqllP4fFt8q3qMxmhW1TjPpWze/7phGpq/MXH/kyi0gv/zYZqWzbv/rIPdPnwE5GUTO/n9HrGgnCEM7QRjaCcLQTpANJOh8cQDC/KysdprYscrpex0KMZBqx7BB9/7t5G0gT50dUzrDh1ogr/nTNMgrX3xW6RTkbL3bnC9GrGgnCEM7QRjaCTLm19QIZTTo/8CczUEXEZGixCQG5TSkEK3DiY9Bg/v3ndoB8uKHuiCPnDmkdCTB+SZNTD4k7bbWuckQK9oJwtBOEIZ2gmw47VYO6lNColM26XsiYBHpCCb7+d27YST7OVnSMPyF/FeYkFh44yDqjC1WOmWO7+NJQxdKKJ2+kVB5FyNWtBOEoZ0gDO0EYWgnyNoJOmOFZXvytZolOjeWTqvENAZXl1oOHGOmGFKfjZzq4NSa6PSVfat2BVEuULIkqZ7LO4ZSB44U/gPzixXtBGFoJwhDO0E2QImDvpnUqOIRHVxoUkFDXuIYaxdGK+XyBI3ZtVhEMPYS8bhRIJAwx7VwTHnhktIpq7izqPYF1DW7OjiVDOH8kwH9XMp59EtuhLNjRTtBGNoJwtBOEIZ2goyrOixwRWdKmSgzyELgDFjbyJodml8H8r5f363GrDlyGeRy7Sqc2xw5LiJSDqHzVbQxyNLo9rTO9Ax+kNZYE5TxKjo4l4Xd25XKyS+jTvNVXe2y/nsvgqyybzWcs1jRThCGdoIwtBOoKtAbAQdHRERS4uRWYxbkJ6c/oHSe/OFOkIdSHbQ4/XGsIFnyKvJr+6jmaCEO5n93sWJcqaTUpqI4fwFkqwIlXb8W5LfuXgHypj2vKZ33DeJzObduWI15fvXtIG/+5r9wLhxQEVG8HSvaCcLQThCGdoJsgBISPdEVkty6ghMhFho05lgP+er3ez+mdFYdugjyyc9o7uwuxXf4ZS8RjxvJiLKFiZB8Gb6rnt+K34uItN8cBXnRE9jaYvLrH1U6E/cfBXn7IOrMLlBlrIhMzaHPYbXC2rXtMMhHP7kF5OH9zymdlHafxIp2gjC0E4ShnSAM7QS1mldaDsK1mCt0VcfyBiYFvv/450De9JtTSqdsU/XIUX3fCxn1K8uox+iwrhwtW/gzu+NYxVEYT2Hxy+gYnnnoIyDf9eDflM58H697eh4dutlcO2N96l2aG71ML3QwiDJ5HwaoNj+lndZydg7kWNFOEIZ2gjC0E2TMv40aOyi4tYVVRPCDqU+DvPoZrPAsmwYx0vbW8adfV0OKDIsTLm1C3hsvR5ROmuNv5NalVvHpka8sAfn+u57HeRjPaYhiTctbV0AeG9DBKH7+PcNh4HtNbHkL5L9+CZMeIiKrfoQttWJFO0EY2gnC0E6QLUqIoFgWkYIKCFuUsHh8+kNKh3tg55QDSLdhUZ+IyLon3gS5f/acGtO6uAbki5txbs0reqfD4PT1OfrSDu1j7Nv1c5CPU1KmZ5wjwkWSPdpBavF6nTNMOjSGd86M7cF3ZhGRf/4ZCztiRTtBGNoJwtBOEIZ2gmwsRUfFqh3h1EKLKgxHGroKcfzeKZA3jJ4H+e+PYp9tEZFyiHZQLFuixrRfw+ss7EYn6fKEdngaHXScuEBmeDEGNkT0oW2LGvP0vXaieDeKPghO6/B9+BoiIm1BZ5EDVtuHMQEjIrL/ax8GOVa0E4ShnSAM7QRZO0WOKIwqyn5Fa4s9o3oHQr4Gr/vLvffifXTuQU58FhPoGx+ZUWPKKQyqpD3sDVq+RwcP5i/TAaJX8P+9ZFDvpmzR7pMWBZJYFtH8mlNFLbf3ENGBlzqHxfEYK3jz7TsP4DXUiMBNiTC0E4ShnSBr0Ltew9g9z2kC5uyRRBcHPnYK3+OuvB958PYJXRw49chGkHsbl+u5jGKh3KqDyHsrdk4qnfPLqLjuPO6OaDc13zaJF5mTzWSEOngVxYZx9ghf1+Jb7o+uzkExijeZx2NFO0EY2gnC0E4QhnaCbDCpPg60EG4/hU7FgpEK+c7EAZCPrcfkw3dfuEfppNTtovz8rBqTPYqJjvE/4lbV46veq3Q6uzHwsnwMkxjblr6hdLiKgwMoFvhJ5mojjH5OnPiwDpjT/VpRx0qEFEk4Yy4RhnaCMLQTZM2k+rCvnN/zK3ZXiojsGiJeT7DNQzag+eqr9/0B5L1H71Rjxk9gAUAyjC0cVjyHh4CLiBz5IAZMPnXrEZC/uEQfFM6ow9lcRCA1DmHnklRuCXJVjwMxVBVqthrhw2UDLhCGdoIwtBPU6nhwI+jSuVdbmpjU+Na23ymdCwtYjTB9ZpEac0tKRQKUhOm3dVeBZAHHbB3GxMdSYzfojHHmx7Wwzhnpq6QGFwv+98Dv47GinSAM7QRhaCcIQzuBcsb65ds/uKtf4yDNNiVPHhg5o8Y828FKldGVugpUSnS2Lt6xGuSz2CVKRES23HYS5J1Dx0CetXZdVJw1UucsEoZV4Xkj12FHyzrThD+LFe0EYWgnCEM7wTsWMOFiBa4c7Raa17cOYDBk+pw+X2L6YdR7ePtTIO9oH1c6fLhpSnPJa3An82sdbjWTGIQ6rS0YVqVoFWJFO0EY2gnC0E4QhnaCpH96E3gm1tZOdqysMVXIKRCTG9mfWXLQ/tFbqcbcQQeS8GaavhG7yclxmqN+mz3j/87VIpytqnPITJ3WFnUqOtV9aL6Wjq4uDbhAGNoJwtBOkHSmNgD5MB+L6KRFTrUSTYOveEyXONpKhDDzW2GBOVLTHGf026T/MwdIVPWm2Bx8LeokKJiTrUAHj7ECMZr7maOre4zGinaCMLQThKGdION3YuZWC3MFjnkl172kbs0ug9wmGrHuwjtC5gy+shIQbxfMydw6QsRoC8W8aMyN32frvO/yvS2+rYJVeMA8HivaCcLQThCGdoIwtBNkc7R1Zsao/OAQytPz2A/sJz99QOlseBBbTvxiwwGQO8Z9OqqXZo0Afw3nhZMWygGynD65fh/tOgkKdU2zxzfqdEq9paihqnXI6TOeQThjThGGdoIwtBOoXqBNo18lBzJOdpeBPHpCt3m43MMDu5nnuRjg6mfXTz6I6AIAldQwrsucXBUMuXrv6yckOhXbai3UOVPDGlPVr9tKykThgVOEoZ0gDO0EmVWkx2B+/cIYHpp9+Bu6iG/XOLZ4ukQX6Zh9qZmv9Bjm6Cr+FbEOB61OajBX8lz4gFER/T6bJrwjpLqgkA8cFRHV91sVIlgtIoOjfSIM7QRhaCcIQztBxrsjrMYWvYpkAzteIiIzRQtkdrQsZ2yuwNYWdbaHViUfROo4VnWqM/G6XSNgooI1FU6UpWNdtwrWb+4WUQXqEmFoJwhDO8G/AehrmbYI2EXoAAAAAElFTkSuQmCC\" y=\"-21.622473\"/>\r\n   </g>\r\n   <g id=\"text_1\">\r\n    <!-- R -->\r\n    <g transform=\"translate(63.683111 16.318125)scale(0.12 -0.12)\">\r\n     <defs>\r\n      <path d=\"M 44.390625 34.1875 \r\nQ 47.5625 33.109375 50.5625 29.59375 \r\nQ 53.5625 26.078125 56.59375 19.921875 \r\nL 66.609375 0 \r\nL 56 0 \r\nL 46.6875 18.703125 \r\nQ 43.0625 26.03125 39.671875 28.421875 \r\nQ 36.28125 30.8125 30.421875 30.8125 \r\nL 19.671875 30.8125 \r\nL 19.671875 0 \r\nL 9.8125 0 \r\nL 9.8125 72.90625 \r\nL 32.078125 72.90625 \r\nQ 44.578125 72.90625 50.734375 67.671875 \r\nQ 56.890625 62.453125 56.890625 51.90625 \r\nQ 56.890625 45.015625 53.6875 40.46875 \r\nQ 50.484375 35.9375 44.390625 34.1875 \r\nz\r\nM 19.671875 64.796875 \r\nL 19.671875 38.921875 \r\nL 32.078125 38.921875 \r\nQ 39.203125 38.921875 42.84375 42.21875 \r\nQ 46.484375 45.515625 46.484375 51.90625 \r\nQ 46.484375 58.296875 42.84375 61.546875 \r\nQ 39.203125 64.796875 32.078125 64.796875 \r\nz\r\n\" id=\"DejaVuSans-82\"/>\r\n     </defs>\r\n     <use xlink:href=\"#DejaVuSans-82\"/>\r\n    </g>\r\n   </g>\r\n  </g>\r\n  <g id=\"axes_2\">\r\n   <g clip-path=\"url(#p87a14d0f81)\">\r\n    <image height=\"122\" id=\"image286663139e\" transform=\"scale(1 -1)translate(0 -122)\" width=\"122\" x=\"152.765217\" xlink:href=\"data:image/png;base64,\r\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\" y=\"-21.622473\"/>\r\n   </g>\r\n   <g id=\"text_2\">\r\n    <!-- G -->\r\n    <g transform=\"translate(208.768329 16.318125)scale(0.12 -0.12)\">\r\n     <defs>\r\n      <path d=\"M 59.515625 10.40625 \r\nL 59.515625 29.984375 \r\nL 43.40625 29.984375 \r\nL 43.40625 38.09375 \r\nL 69.28125 38.09375 \r\nL 69.28125 6.78125 \r\nQ 63.578125 2.734375 56.6875 0.65625 \r\nQ 49.8125 -1.421875 42 -1.421875 \r\nQ 24.90625 -1.421875 15.25 8.5625 \r\nQ 5.609375 18.5625 5.609375 36.375 \r\nQ 5.609375 54.25 15.25 64.234375 \r\nQ 24.90625 74.21875 42 74.21875 \r\nQ 49.125 74.21875 55.546875 72.453125 \r\nQ 61.96875 70.703125 67.390625 67.28125 \r\nL 67.390625 56.78125 \r\nQ 61.921875 61.421875 55.765625 63.765625 \r\nQ 49.609375 66.109375 42.828125 66.109375 \r\nQ 29.4375 66.109375 22.71875 58.640625 \r\nQ 16.015625 51.171875 16.015625 36.375 \r\nQ 16.015625 21.625 22.71875 14.15625 \r\nQ 29.4375 6.6875 42.828125 6.6875 \r\nQ 48.046875 6.6875 52.140625 7.59375 \r\nQ 56.25 8.5 59.515625 10.40625 \r\nz\r\n\" id=\"DejaVuSans-71\"/>\r\n     </defs>\r\n     <use xlink:href=\"#DejaVuSans-71\"/>\r\n    </g>\r\n   </g>\r\n  </g>\r\n  <g id=\"axes_3\">\r\n   <g clip-path=\"url(#pfed49c6981)\">\r\n    <image height=\"122\" id=\"imagec86198c9a3\" transform=\"scale(1 -1)translate(0 -122)\" width=\"122\" x=\"298.330435\" xlink:href=\"data:image/png;base64,\r\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\" y=\"-21.622473\"/>\r\n   </g>\r\n   <g id=\"text_3\">\r\n    <!-- B -->\r\n    <g transform=\"translate(354.866046 16.318125)scale(0.12 -0.12)\">\r\n     <defs>\r\n      <path d=\"M 19.671875 34.8125 \r\nL 19.671875 8.109375 \r\nL 35.5 8.109375 \r\nQ 43.453125 8.109375 47.28125 11.40625 \r\nQ 51.125 14.703125 51.125 21.484375 \r\nQ 51.125 28.328125 47.28125 31.5625 \r\nQ 43.453125 34.8125 35.5 34.8125 \r\nz\r\nM 19.671875 64.796875 \r\nL 19.671875 42.828125 \r\nL 34.28125 42.828125 \r\nQ 41.5 42.828125 45.03125 45.53125 \r\nQ 48.578125 48.25 48.578125 53.8125 \r\nQ 48.578125 59.328125 45.03125 62.0625 \r\nQ 41.5 64.796875 34.28125 64.796875 \r\nz\r\nM 9.8125 72.90625 \r\nL 35.015625 72.90625 \r\nQ 46.296875 72.90625 52.390625 68.21875 \r\nQ 58.5 63.53125 58.5 54.890625 \r\nQ 58.5 48.1875 55.375 44.234375 \r\nQ 52.25 40.28125 46.1875 39.3125 \r\nQ 53.46875 37.75 57.5 32.78125 \r\nQ 61.53125 27.828125 61.53125 20.40625 \r\nQ 61.53125 10.640625 54.890625 5.3125 \r\nQ 48.25 0 35.984375 0 \r\nL 9.8125 0 \r\nz\r\n\" id=\"DejaVuSans-66\"/>\r\n     </defs>\r\n     <use xlink:href=\"#DejaVuSans-66\"/>\r\n    </g>\r\n   </g>\r\n  </g>\r\n  <g id=\"axes_4\">\r\n   <g clip-path=\"url(#pd723883a59)\">\r\n    <image height=\"122\" id=\"image2d582c965e\" transform=\"scale(1 -1)translate(0 -122)\" width=\"122\" x=\"443.895652\" xlink:href=\"data:image/png;base64,\r\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\" y=\"-21.622473\"/>\r\n   </g>\r\n   <g id=\"text_4\">\r\n    <!-- D -->\r\n    <g transform=\"translate(499.927826 16.318125)scale(0.12 -0.12)\">\r\n     <defs>\r\n      <path d=\"M 19.671875 64.796875 \r\nL 19.671875 8.109375 \r\nL 31.59375 8.109375 \r\nQ 46.6875 8.109375 53.6875 14.9375 \r\nQ 60.6875 21.78125 60.6875 36.53125 \r\nQ 60.6875 51.171875 53.6875 57.984375 \r\nQ 46.6875 64.796875 31.59375 64.796875 \r\nz\r\nM 9.8125 72.90625 \r\nL 30.078125 72.90625 \r\nQ 51.265625 72.90625 61.171875 64.09375 \r\nQ 71.09375 55.28125 71.09375 36.53125 \r\nQ 71.09375 17.671875 61.125 8.828125 \r\nQ 51.171875 0 30.078125 0 \r\nL 9.8125 0 \r\nz\r\n\" id=\"DejaVuSans-68\"/>\r\n     </defs>\r\n     <use xlink:href=\"#DejaVuSans-68\"/>\r\n    </g>\r\n   </g>\r\n  </g>\r\n </g>\r\n <defs>\r\n  <clipPath id=\"pbd633eac15\">\r\n   <rect height=\"121.304348\" width=\"121.304348\" x=\"7.2\" y=\"22.318125\"/>\r\n  </clipPath>\r\n  <clipPath id=\"p87a14d0f81\">\r\n   <rect height=\"121.304348\" width=\"121.304348\" x=\"152.765217\" y=\"22.318125\"/>\r\n  </clipPath>\r\n  <clipPath id=\"pfed49c6981\">\r\n   <rect height=\"121.304348\" width=\"121.304348\" x=\"298.330435\" y=\"22.318125\"/>\r\n  </clipPath>\r\n  <clipPath id=\"pd723883a59\">\r\n   <rect height=\"121.304348\" width=\"121.304348\" x=\"443.895652\" y=\"22.318125\"/>\r\n  </clipPath>\r\n </defs>\r\n</svg>\r\n",
      "image/png": "[encoded data removed]"
     },
     "metadata": {
      "needs_background": "light"
     }
    }
   ],
   "source": [
    "test = utils.HandDataset(DATA_PATH/'test_set.mat')\n",
    "test.show_sample()\n",
    "test_iter = torch.utils.data.DataLoader(test, batch_size=len(test), shuffle=False)"
   ]
  },
  {
   "cell_type": "code",
   "execution_count": 7,
   "metadata": {},
   "outputs": [
    {
     "output_type": "stream",
     "name": "stdout",
     "text": [
      "Accuracy: 0.0\ntensor([0, 0, 0, 0, 1, 1, 1, 2, 2], device='cuda:0')\ntensor([[ 0.0154,  1.4772, -1.0917],\n        [-1.5972, -5.8354,  7.6307],\n        [-0.7624, -5.6659,  6.6566],\n        [-1.3497, -1.3121,  2.9208],\n        [-2.0764,  1.0775,  1.2333],\n        [-6.0599, -0.3625,  6.6606],\n        [-1.9822, -6.1936,  8.3611],\n        [ 3.3195, -3.8217,  0.5177],\n        [ 6.4221, -8.0453,  1.8680]], device='cuda:0', grad_fn=<AddmmBackward>)\n"
     ]
    }
   ],
   "source": [
    "net.eval()\n",
    "for X, y in test_iter:\n",
    "    # move data to GPU if available\n",
    "    X, y = X.to(device), y.to(device)\n",
    "    y_hat = net(X)\n",
    "\n",
    "print(f\"Accuracy: {utils.accuracy(y_hat, y) / len(test):.3}\")\n",
    "print(y)\n",
    "print(y_hat)\n"
   ]
  },
  {
   "cell_type": "code",
   "execution_count": 8,
   "metadata": {},
   "outputs": [
    {
     "output_type": "execute_result",
     "data": {
      "text/plain": [
       "0.0"
      ]
     },
     "metadata": {},
     "execution_count": 8
    }
   ],
   "source": [
    "utils.evaluate_accuracy(net, test_iter)"
   ]
  },
  {
   "cell_type": "code",
   "execution_count": null,
   "metadata": {},
   "outputs": [],
   "source": []
  }
 ]
}