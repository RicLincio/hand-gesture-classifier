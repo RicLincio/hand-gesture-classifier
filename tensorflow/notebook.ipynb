{
 "cells": [
  {
   "cell_type": "code",
   "execution_count": 1,
   "metadata": {},
   "outputs": [
    {
     "name": "stderr",
     "output_type": "stream",
     "text": [
      "Using TensorFlow backend.\n"
     ]
    }
   ],
   "source": [
    "from scipy import io\n",
    "import numpy as np\n",
    "from sklearn.preprocessing import OneHotEncoder, StandardScaler\n",
    "\n",
    "import warnings\n",
    "with warnings.catch_warnings():\n",
    "    warnings.filterwarnings(\"ignore\",category=FutureWarning)\n",
    "    from keras import regularizers\n",
    "    from keras.layers import Conv1D, Conv2D, BatchNormalization, Dropout, LeakyReLU, Flatten, Activation, Dense, MaxPooling1D, MaxPooling2D\n",
    "    from keras.models import Model, Sequential\n",
    "    from keras.optimizers import Adam\n",
    "    import keras.backend as K"
   ]
  },
  {
   "cell_type": "code",
   "execution_count": 2,
   "metadata": {},
   "outputs": [],
   "source": [
    "disp = True # boolean to indicate if to print partial results"
   ]
  },
  {
   "cell_type": "markdown",
   "metadata": {},
   "source": [
    "### Processing"
   ]
  },
  {
   "cell_type": "code",
   "execution_count": 11,
   "metadata": {},
   "outputs": [
    {
     "name": "stdout",
     "output_type": "stream",
     "text": [
      "Training set: \n",
      "trainSet: (8370, 28, 28, 4) \n",
      "trainLabel: (8370, 3) \n",
      "\n",
      "Validation set: \n",
      "valSet: (1440, 28, 28, 4) \n",
      "valLabel: (1440, 3) \n",
      "\n",
      "Test set:\n",
      "testSet: (9, 28, 28, 4) \n",
      "testLabel: (9, 3)\n"
     ]
    }
   ],
   "source": [
    "train = io.loadmat(\"data/training_set.mat\", mdict={'trainSet':'trainSet', 'trainLabels':'trainLabels'})\n",
    "val = io.loadmat(\"data/validation_set.mat\", mdict={'valSet':'valSet', 'valLabels':'valLabels'})\n",
    "test = io.loadmat(\"data/test_set.mat\", mdict={'testSet':'testSet', 'testLabels':'testLabels'})\n",
    "\n",
    "trainSet = np.reshape(train['trainSet'], newshape=(8370, 28, 28, 4), order=(3,0,1,2))\n",
    "valSet = np.reshape(val['valSet'], newshape=(1440, 28, 28, 4), order=(3,0,1,2))\n",
    "testSet = np.reshape(test['testSet'], newshape=(9, 28, 28, 4), order=(3,0,1,2))\n",
    "trainLabel = train['trainLabel'].T\n",
    "valLabel = val['valLabel'].T\n",
    "testLabel = test['testLabel'].T\n",
    "\n",
    "onehot_encoder = OneHotEncoder(sparse=False)\n",
    "trainLabel = onehot_encoder.fit_transform(trainLabel)\n",
    "valLabel = onehot_encoder.fit_transform(valLabel)\n",
    "testLabel = onehot_encoder.fit_transform(testLabel)\n",
    "\n",
    "if disp:\n",
    "    print(\"Training set:\",\n",
    "          \"\\ntrainSet:\", trainSet.shape,\n",
    "          \"\\ntrainLabel:\", trainLabel.shape,\n",
    "          \"\\n\\nValidation set:\",\n",
    "          \"\\nvalSet:\", valSet.shape,\n",
    "          \"\\nvalLabel:\", valLabel.shape,\n",
    "          \"\\n\\nTest set:\"\n",
    "          \"\\ntestSet:\", testSet.shape,\n",
    "          \"\\ntestLabel:\", testLabel.shape)"
   ]
  },
  {
   "cell_type": "markdown",
   "metadata": {},
   "source": [
    "Here I use a keras model to create a CNN that takes as input all the 4 channels of the RGBD signal."
   ]
  },
  {
   "cell_type": "code",
   "execution_count": 18,
   "metadata": {},
   "outputs": [
    {
     "name": "stdout",
     "output_type": "stream",
     "text": [
      "_________________________________________________________________\n",
      "Layer (type)                 Output Shape              Param #   \n",
      "=================================================================\n",
      "conv2d_6 (Conv2D)            (None, 10, 10, 94)        3478      \n",
      "_________________________________________________________________\n",
      "batch_normalization_6 (Batch (None, 10, 10, 94)        376       \n",
      "_________________________________________________________________\n",
      "leaky_re_lu_9 (LeakyReLU)    (None, 10, 10, 94)        0         \n",
      "_________________________________________________________________\n",
      "max_pooling2d_6 (MaxPooling2 (None, 5, 5, 94)          0         \n",
      "_________________________________________________________________\n",
      "flatten_4 (Flatten)          (None, 2350)              0         \n",
      "_________________________________________________________________\n",
      "dense_7 (Dense)              (None, 64)                150464    \n",
      "_________________________________________________________________\n",
      "leaky_re_lu_10 (LeakyReLU)   (None, 64)                0         \n",
      "_________________________________________________________________\n",
      "dropout_4 (Dropout)          (None, 64)                0         \n",
      "_________________________________________________________________\n",
      "dense_8 (Dense)              (None, 3)                 195       \n",
      "_________________________________________________________________\n",
      "activation_4 (Activation)    (None, 3)                 0         \n",
      "=================================================================\n",
      "Total params: 154,513\n",
      "Trainable params: 154,325\n",
      "Non-trainable params: 188\n",
      "_________________________________________________________________\n"
     ]
    }
   ],
   "source": [
    "model = Sequential()\n",
    "\n",
    "model.add(Conv2D(filters=94,\n",
    "                 kernel_size=(3,3),\n",
    "                 strides=3,\n",
    "                 padding='same',\n",
    "                 input_shape=trainSet.shape[1:]))\n",
    "model.add(BatchNormalization())\n",
    "model.add(LeakyReLU(alpha=0.3))\n",
    "model.add(MaxPooling2D(pool_size=(2,2),\n",
    "                       strides=2,\n",
    "                       padding='same'))    \n",
    "\n",
    "    \n",
    "model.add(Flatten())\n",
    "    \n",
    "model.add(Dense(64, kernel_regularizer=regularizers.l2(0.01)))\n",
    "model.add(LeakyReLU(alpha=0.3))\n",
    "    \n",
    "model.add(Dropout(0.4))\n",
    "\n",
    "model.add(Dense(3))\n",
    "model.add(Activation('softmax'))\n",
    "\n",
    "model.summary()"
   ]
  },
  {
   "cell_type": "code",
   "execution_count": 19,
   "metadata": {},
   "outputs": [
    {
     "name": "stdout",
     "output_type": "stream",
     "text": [
      "Train on 8370 samples, validate on 1440 samples\n",
      "Epoch 1/20\n",
      "8370/8370 [==============================] - 3s 409us/step - loss: 1.2940 - acc: 0.7996 - val_loss: 2.0950 - val_acc: 0.3236\n",
      "Epoch 2/20\n",
      "8370/8370 [==============================] - 3s 318us/step - loss: 0.5859 - acc: 0.9119 - val_loss: 1.9578 - val_acc: 0.4139\n",
      "Epoch 3/20\n",
      "8370/8370 [==============================] - 3s 317us/step - loss: 0.3518 - acc: 0.9481 - val_loss: 1.8665 - val_acc: 0.4000\n",
      "Epoch 4/20\n",
      "8370/8370 [==============================] - 3s 321us/step - loss: 0.2441 - acc: 0.9685 - val_loss: 1.5815 - val_acc: 0.4125\n",
      "Epoch 5/20\n",
      "8370/8370 [==============================] - 3s 319us/step - loss: 0.1974 - acc: 0.9732 - val_loss: 1.7098 - val_acc: 0.3736\n",
      "Epoch 6/20\n",
      "8370/8370 [==============================] - 3s 320us/step - loss: 0.2102 - acc: 0.9665 - val_loss: 1.9158 - val_acc: 0.4181\n",
      "Epoch 7/20\n",
      "8370/8370 [==============================] - 3s 321us/step - loss: 0.1874 - acc: 0.9751 - val_loss: 1.8430 - val_acc: 0.4194\n",
      "Epoch 8/20\n",
      "8370/8370 [==============================] - 3s 330us/step - loss: 0.1587 - acc: 0.9798 - val_loss: 2.3608 - val_acc: 0.3201\n",
      "Epoch 9/20\n",
      "8370/8370 [==============================] - 3s 324us/step - loss: 0.1604 - acc: 0.9779 - val_loss: 1.9536 - val_acc: 0.3549\n",
      "Epoch 10/20\n",
      "8370/8370 [==============================] - 3s 324us/step - loss: 0.1410 - acc: 0.9864 - val_loss: 2.1487 - val_acc: 0.3708\n",
      "Epoch 11/20\n",
      "8370/8370 [==============================] - 3s 322us/step - loss: 0.1471 - acc: 0.9833 - val_loss: 2.1815 - val_acc: 0.3778\n",
      "Epoch 12/20\n",
      "8370/8370 [==============================] - 3s 324us/step - loss: 0.1281 - acc: 0.9855 - val_loss: 2.2610 - val_acc: 0.3917\n",
      "Epoch 13/20\n",
      "8370/8370 [==============================] - 3s 325us/step - loss: 0.1233 - acc: 0.9884 - val_loss: 2.1837 - val_acc: 0.3861\n",
      "Epoch 14/20\n",
      "8370/8370 [==============================] - 3s 326us/step - loss: 0.1513 - acc: 0.9808 - val_loss: 2.2596 - val_acc: 0.3715\n",
      "Epoch 15/20\n",
      "8370/8370 [==============================] - 3s 320us/step - loss: 0.1267 - acc: 0.9864 - val_loss: 2.1863 - val_acc: 0.3722\n",
      "Epoch 16/20\n",
      "8370/8370 [==============================] - 3s 314us/step - loss: 0.1220 - acc: 0.9883 - val_loss: 2.4017 - val_acc: 0.3736\n",
      "Epoch 17/20\n",
      "8370/8370 [==============================] - 3s 310us/step - loss: 0.1591 - acc: 0.9804 - val_loss: 2.5353 - val_acc: 0.3729\n",
      "Epoch 18/20\n",
      "8370/8370 [==============================] - 3s 313us/step - loss: 0.1046 - acc: 0.9908 - val_loss: 2.3959 - val_acc: 0.3646\n",
      "Epoch 19/20\n",
      "8370/8370 [==============================] - 3s 318us/step - loss: 0.1156 - acc: 0.9882 - val_loss: 2.5288 - val_acc: 0.3604\n",
      "Epoch 20/20\n",
      "8370/8370 [==============================] - 3s 323us/step - loss: 0.1117 - acc: 0.9902 - val_loss: 2.5080 - val_acc: 0.3826\n"
     ]
    },
    {
     "data": {
      "text/plain": [
       "<keras.callbacks.History at 0x234df8d65f8>"
      ]
     },
     "execution_count": 19,
     "metadata": {},
     "output_type": "execute_result"
    }
   ],
   "source": [
    "opt = Adam(lr=0.001)\n",
    "model.compile(optimizer = opt, loss = \"categorical_crossentropy\", metrics = [\"accuracy\"])\n",
    "\n",
    "model.fit(x=trainSet, y=trainLabel, batch_size=30, epochs=20,\n",
    "          validation_data=(valSet, valLabel))"
   ]
  },
  {
   "cell_type": "code",
   "execution_count": 14,
   "metadata": {},
   "outputs": [],
   "source": [
    "predLabel = model.predict_classes(testSet)"
   ]
  },
  {
   "cell_type": "code",
   "execution_count": 15,
   "metadata": {},
   "outputs": [
    {
     "name": "stdout",
     "output_type": "stream",
     "text": [
      "[2 2 2 2 2 2 2 2 2]\n"
     ]
    }
   ],
   "source": [
    "print(predLabel)"
   ]
  },
  {
   "cell_type": "code",
   "execution_count": null,
   "metadata": {},
   "outputs": [],
   "source": []
  }
 ],
 "metadata": {
  "kernelspec": {
   "display_name": "Python 3",
   "language": "python",
   "name": "python3"
  },
  "language_info": {
   "codemirror_mode": {
    "name": "ipython",
    "version": 3
   },
   "file_extension": ".py",
   "mimetype": "text/x-python",
   "name": "python",
   "nbconvert_exporter": "python",
   "pygments_lexer": "ipython3",
   "version": "3.6.4"
  }
 },
 "nbformat": 4,
 "nbformat_minor": 2
}
